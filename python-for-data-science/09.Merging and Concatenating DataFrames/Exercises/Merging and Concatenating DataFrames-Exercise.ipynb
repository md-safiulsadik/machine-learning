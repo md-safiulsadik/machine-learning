{
 "cells": [
  {
   "cell_type": "code",
   "execution_count": null,
   "id": "fad49839",
   "metadata": {},
   "outputs": [],
   "source": [
    "import pandas as pd"
   ]
  },
  {
   "cell_type": "code",
   "execution_count": null,
   "id": "09c6213f",
   "metadata": {},
   "outputs": [],
   "source": [
    "# read 'IMDb movies.csv' and 'IMDb ratings.csv'\n",
    "df_movies = pd.read_csv('IMDb movies.csv', low_memory=False)\n",
    "df_ratings = pd.read_csv('IMDb ratings.csv')"
   ]
  },
  {
   "cell_type": "code",
   "execution_count": null,
   "id": "d5670913",
   "metadata": {},
   "outputs": [],
   "source": [
    "# select columns\n",
    "df_movies = df_movies[['imdb_title_id', 'title', 'year',\n",
    "                       'genre', 'country']]\n",
    "\n",
    "df_ratings = df_ratings[['imdb_title_id', 'total_votes', 'mean_vote']]"
   ]
  },
  {
   "cell_type": "markdown",
   "id": "310fc4cc",
   "metadata": {},
   "source": [
    "# merge()"
   ]
  },
  {
   "cell_type": "markdown",
   "id": "de4aa87a",
   "metadata": {},
   "source": [
    "## Inner join"
   ]
  },
  {
   "cell_type": "code",
   "execution_count": null,
   "id": "e50bde09",
   "metadata": {},
   "outputs": [],
   "source": [
    "# merge df_movies and df_ratings (inner join)\n"
   ]
  },
  {
   "cell_type": "markdown",
   "id": "232dc587",
   "metadata": {},
   "source": [
    "## Outer join (Full join)"
   ]
  },
  {
   "cell_type": "code",
   "execution_count": null,
   "id": "eb7cbafe",
   "metadata": {},
   "outputs": [],
   "source": [
    "# merge df_movies and df_ratings (outer join)\n"
   ]
  },
  {
   "cell_type": "markdown",
   "id": "554af406",
   "metadata": {},
   "source": [
    "## Exclusive Outer join (Exclusive Full join)"
   ]
  },
  {
   "cell_type": "code",
   "execution_count": null,
   "id": "18842159",
   "metadata": {},
   "outputs": [],
   "source": [
    "# merge df_movies and df_ratings (Exclusive Full join)\n"
   ]
  },
  {
   "cell_type": "markdown",
   "id": "dbee2e97",
   "metadata": {},
   "source": [
    "##  Left join"
   ]
  },
  {
   "cell_type": "code",
   "execution_count": null,
   "id": "5317af4a",
   "metadata": {},
   "outputs": [],
   "source": [
    "# extract a 50% sample of the df_movies dataframe\n"
   ]
  },
  {
   "cell_type": "code",
   "execution_count": null,
   "id": "3e41bd9f",
   "metadata": {},
   "outputs": [],
   "source": [
    "# merge df_movies_sample and df_ratings (left join)\n"
   ]
  },
  {
   "cell_type": "markdown",
   "id": "3014d002",
   "metadata": {},
   "source": [
    "## Exclusive Left join"
   ]
  },
  {
   "cell_type": "code",
   "execution_count": null,
   "id": "06b64daa",
   "metadata": {},
   "outputs": [],
   "source": [
    "# make a copy of the df_movies dataframe\n"
   ]
  },
  {
   "cell_type": "code",
   "execution_count": null,
   "id": "192b0988",
   "metadata": {},
   "outputs": [],
   "source": [
    "# set the first 1000 values of 'imdb_title_id' column as 'tt1234567890'\n"
   ]
  },
  {
   "cell_type": "code",
   "execution_count": null,
   "id": "d79c5ba4",
   "metadata": {},
   "outputs": [],
   "source": [
    "# merge df_movies_2 and df_ratings (exclusive left join)\n"
   ]
  },
  {
   "cell_type": "markdown",
   "id": "4a2007ee",
   "metadata": {},
   "source": [
    "## Right join"
   ]
  },
  {
   "cell_type": "code",
   "execution_count": null,
   "id": "fe292156",
   "metadata": {},
   "outputs": [],
   "source": [
    "# extract a 30% sample of the df_ratings dataframe\n"
   ]
  },
  {
   "cell_type": "code",
   "execution_count": null,
   "id": "0ffdcd45",
   "metadata": {},
   "outputs": [],
   "source": [
    "# merge df_movies and df_ratings_sample (right join)\n"
   ]
  },
  {
   "cell_type": "markdown",
   "id": "c79f3005",
   "metadata": {},
   "source": [
    "## Exclusive Right join"
   ]
  },
  {
   "cell_type": "code",
   "execution_count": null,
   "id": "048c2de3",
   "metadata": {},
   "outputs": [],
   "source": [
    "# make a copy of the df_ratings dataframe\n"
   ]
  },
  {
   "cell_type": "code",
   "execution_count": null,
   "id": "f71e384a",
   "metadata": {},
   "outputs": [],
   "source": [
    "# set the first 1000 values of 'imdb_title_id' column as 'tt1234567890'\n"
   ]
  },
  {
   "cell_type": "code",
   "execution_count": null,
   "id": "358048b3",
   "metadata": {},
   "outputs": [],
   "source": [
    "# merge df_movies and df_ratings_2 (exclusive right join)\n"
   ]
  }
 ],
 "metadata": {
  "kernelspec": {
   "display_name": "Python 3",
   "language": "python",
   "name": "python3"
  },
  "language_info": {
   "codemirror_mode": {
    "name": "ipython",
    "version": 3
   },
   "file_extension": ".py",
   "mimetype": "text/x-python",
   "name": "python",
   "nbconvert_exporter": "python",
   "pygments_lexer": "ipython3",
   "version": "3.8.8"
  },
  "toc": {
   "base_numbering": 1,
   "nav_menu": {},
   "number_sections": true,
   "sideBar": true,
   "skip_h1_title": false,
   "title_cell": "Table of Contents",
   "title_sidebar": "Contents",
   "toc_cell": false,
   "toc_position": {},
   "toc_section_display": true,
   "toc_window_display": false
  }
 },
 "nbformat": 4,
 "nbformat_minor": 5
}
