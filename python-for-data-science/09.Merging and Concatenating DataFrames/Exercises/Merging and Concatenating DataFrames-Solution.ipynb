{
 "cells": [
  {
   "cell_type": "code",
   "execution_count": 1,
   "id": "fad49839",
   "metadata": {},
   "outputs": [],
   "source": [
    "import pandas as pd"
   ]
  },
  {
   "cell_type": "code",
   "execution_count": 2,
   "id": "09c6213f",
   "metadata": {},
   "outputs": [],
   "source": [
    "# read 'IMDb movies.csv' and 'IMDb ratings.csv'\n",
    "df_movies = pd.read_csv('IMDb movies.csv', low_memory=False)\n",
    "df_ratings = pd.read_csv('IMDb ratings.csv')"
   ]
  },
  {
   "cell_type": "code",
   "execution_count": 3,
   "id": "d5670913",
   "metadata": {},
   "outputs": [],
   "source": [
    "# select columns\n",
    "df_movies = df_movies[['imdb_title_id', 'title', 'year',\n",
    "                       'genre', 'country']]\n",
    "\n",
    "df_ratings = df_ratings[['imdb_title_id', 'total_votes', 'mean_vote']]"
   ]
  },
  {
   "cell_type": "markdown",
   "id": "310fc4cc",
   "metadata": {},
   "source": [
    "# merge()"
   ]
  },
  {
   "cell_type": "markdown",
   "id": "de4aa87a",
   "metadata": {},
   "source": [
    "## Inner join"
   ]
  },
  {
   "cell_type": "code",
   "execution_count": 4,
   "id": "e50bde09",
   "metadata": {},
   "outputs": [
    {
     "data": {
      "text/html": [
       "<div>\n",
       "<style scoped>\n",
       "    .dataframe tbody tr th:only-of-type {\n",
       "        vertical-align: middle;\n",
       "    }\n",
       "\n",
       "    .dataframe tbody tr th {\n",
       "        vertical-align: top;\n",
       "    }\n",
       "\n",
       "    .dataframe thead th {\n",
       "        text-align: right;\n",
       "    }\n",
       "</style>\n",
       "<table border=\"1\" class=\"dataframe\">\n",
       "  <thead>\n",
       "    <tr style=\"text-align: right;\">\n",
       "      <th></th>\n",
       "      <th>imdb_title_id</th>\n",
       "      <th>title</th>\n",
       "      <th>year</th>\n",
       "      <th>genre</th>\n",
       "      <th>country</th>\n",
       "      <th>total_votes</th>\n",
       "      <th>mean_vote</th>\n",
       "    </tr>\n",
       "  </thead>\n",
       "  <tbody>\n",
       "    <tr>\n",
       "      <th>0</th>\n",
       "      <td>tt0000009</td>\n",
       "      <td>Miss Jerry</td>\n",
       "      <td>1894</td>\n",
       "      <td>Romance</td>\n",
       "      <td>USA</td>\n",
       "      <td>154</td>\n",
       "      <td>5.9</td>\n",
       "    </tr>\n",
       "    <tr>\n",
       "      <th>1</th>\n",
       "      <td>tt0000574</td>\n",
       "      <td>The Story of the Kelly Gang</td>\n",
       "      <td>1906</td>\n",
       "      <td>Biography, Crime, Drama</td>\n",
       "      <td>Australia</td>\n",
       "      <td>589</td>\n",
       "      <td>6.3</td>\n",
       "    </tr>\n",
       "    <tr>\n",
       "      <th>2</th>\n",
       "      <td>tt0001892</td>\n",
       "      <td>Den sorte drøm</td>\n",
       "      <td>1911</td>\n",
       "      <td>Drama</td>\n",
       "      <td>Germany, Denmark</td>\n",
       "      <td>188</td>\n",
       "      <td>6.0</td>\n",
       "    </tr>\n",
       "    <tr>\n",
       "      <th>3</th>\n",
       "      <td>tt0002101</td>\n",
       "      <td>Cleopatra</td>\n",
       "      <td>1912</td>\n",
       "      <td>Drama, History</td>\n",
       "      <td>USA</td>\n",
       "      <td>446</td>\n",
       "      <td>5.3</td>\n",
       "    </tr>\n",
       "    <tr>\n",
       "      <th>4</th>\n",
       "      <td>tt0002130</td>\n",
       "      <td>L'Inferno</td>\n",
       "      <td>1911</td>\n",
       "      <td>Adventure, Drama, Fantasy</td>\n",
       "      <td>Italy</td>\n",
       "      <td>2237</td>\n",
       "      <td>6.9</td>\n",
       "    </tr>\n",
       "    <tr>\n",
       "      <th>...</th>\n",
       "      <td>...</td>\n",
       "      <td>...</td>\n",
       "      <td>...</td>\n",
       "      <td>...</td>\n",
       "      <td>...</td>\n",
       "      <td>...</td>\n",
       "      <td>...</td>\n",
       "    </tr>\n",
       "    <tr>\n",
       "      <th>85850</th>\n",
       "      <td>tt9908390</td>\n",
       "      <td>Le lion</td>\n",
       "      <td>2020</td>\n",
       "      <td>Comedy</td>\n",
       "      <td>France, Belgium</td>\n",
       "      <td>398</td>\n",
       "      <td>5.5</td>\n",
       "    </tr>\n",
       "    <tr>\n",
       "      <th>85851</th>\n",
       "      <td>tt9911196</td>\n",
       "      <td>De Beentjes van Sint-Hildegard</td>\n",
       "      <td>2020</td>\n",
       "      <td>Comedy, Drama</td>\n",
       "      <td>Netherlands</td>\n",
       "      <td>724</td>\n",
       "      <td>7.9</td>\n",
       "    </tr>\n",
       "    <tr>\n",
       "      <th>85852</th>\n",
       "      <td>tt9911774</td>\n",
       "      <td>Padmavyuhathile Abhimanyu</td>\n",
       "      <td>2019</td>\n",
       "      <td>Drama</td>\n",
       "      <td>India</td>\n",
       "      <td>265</td>\n",
       "      <td>7.8</td>\n",
       "    </tr>\n",
       "    <tr>\n",
       "      <th>85853</th>\n",
       "      <td>tt9914286</td>\n",
       "      <td>Sokagin Çocuklari</td>\n",
       "      <td>2019</td>\n",
       "      <td>Drama, Family</td>\n",
       "      <td>Turkey</td>\n",
       "      <td>194</td>\n",
       "      <td>9.4</td>\n",
       "    </tr>\n",
       "    <tr>\n",
       "      <th>85854</th>\n",
       "      <td>tt9914942</td>\n",
       "      <td>La vida sense la Sara Amat</td>\n",
       "      <td>2019</td>\n",
       "      <td>Drama</td>\n",
       "      <td>Spain</td>\n",
       "      <td>102</td>\n",
       "      <td>6.8</td>\n",
       "    </tr>\n",
       "  </tbody>\n",
       "</table>\n",
       "<p>85855 rows × 7 columns</p>\n",
       "</div>"
      ],
      "text/plain": [
       "      imdb_title_id                           title  year  \\\n",
       "0         tt0000009                      Miss Jerry  1894   \n",
       "1         tt0000574     The Story of the Kelly Gang  1906   \n",
       "2         tt0001892                  Den sorte drøm  1911   \n",
       "3         tt0002101                       Cleopatra  1912   \n",
       "4         tt0002130                       L'Inferno  1911   \n",
       "...             ...                             ...   ...   \n",
       "85850     tt9908390                         Le lion  2020   \n",
       "85851     tt9911196  De Beentjes van Sint-Hildegard  2020   \n",
       "85852     tt9911774       Padmavyuhathile Abhimanyu  2019   \n",
       "85853     tt9914286               Sokagin Çocuklari  2019   \n",
       "85854     tt9914942      La vida sense la Sara Amat  2019   \n",
       "\n",
       "                           genre           country  total_votes  mean_vote  \n",
       "0                        Romance               USA          154        5.9  \n",
       "1        Biography, Crime, Drama         Australia          589        6.3  \n",
       "2                          Drama  Germany, Denmark          188        6.0  \n",
       "3                 Drama, History               USA          446        5.3  \n",
       "4      Adventure, Drama, Fantasy             Italy         2237        6.9  \n",
       "...                          ...               ...          ...        ...  \n",
       "85850                     Comedy   France, Belgium          398        5.5  \n",
       "85851              Comedy, Drama       Netherlands          724        7.9  \n",
       "85852                      Drama             India          265        7.8  \n",
       "85853              Drama, Family            Turkey          194        9.4  \n",
       "85854                      Drama             Spain          102        6.8  \n",
       "\n",
       "[85855 rows x 7 columns]"
      ]
     },
     "execution_count": 4,
     "metadata": {},
     "output_type": "execute_result"
    }
   ],
   "source": [
    "# merge df_movies and df_ratings (inner join)\n",
    "df_movies.merge(df_ratings, on='imdb_title_id')"
   ]
  },
  {
   "cell_type": "markdown",
   "id": "232dc587",
   "metadata": {},
   "source": [
    "## Outer join (Full join)"
   ]
  },
  {
   "cell_type": "code",
   "execution_count": 5,
   "id": "eb7cbafe",
   "metadata": {},
   "outputs": [
    {
     "data": {
      "text/html": [
       "<div>\n",
       "<style scoped>\n",
       "    .dataframe tbody tr th:only-of-type {\n",
       "        vertical-align: middle;\n",
       "    }\n",
       "\n",
       "    .dataframe tbody tr th {\n",
       "        vertical-align: top;\n",
       "    }\n",
       "\n",
       "    .dataframe thead th {\n",
       "        text-align: right;\n",
       "    }\n",
       "</style>\n",
       "<table border=\"1\" class=\"dataframe\">\n",
       "  <thead>\n",
       "    <tr style=\"text-align: right;\">\n",
       "      <th></th>\n",
       "      <th>imdb_title_id</th>\n",
       "      <th>title</th>\n",
       "      <th>year</th>\n",
       "      <th>genre</th>\n",
       "      <th>country</th>\n",
       "      <th>total_votes</th>\n",
       "      <th>mean_vote</th>\n",
       "    </tr>\n",
       "  </thead>\n",
       "  <tbody>\n",
       "    <tr>\n",
       "      <th>0</th>\n",
       "      <td>tt0000009</td>\n",
       "      <td>Miss Jerry</td>\n",
       "      <td>1894</td>\n",
       "      <td>Romance</td>\n",
       "      <td>USA</td>\n",
       "      <td>154</td>\n",
       "      <td>5.9</td>\n",
       "    </tr>\n",
       "    <tr>\n",
       "      <th>1</th>\n",
       "      <td>tt0000574</td>\n",
       "      <td>The Story of the Kelly Gang</td>\n",
       "      <td>1906</td>\n",
       "      <td>Biography, Crime, Drama</td>\n",
       "      <td>Australia</td>\n",
       "      <td>589</td>\n",
       "      <td>6.3</td>\n",
       "    </tr>\n",
       "    <tr>\n",
       "      <th>2</th>\n",
       "      <td>tt0001892</td>\n",
       "      <td>Den sorte drøm</td>\n",
       "      <td>1911</td>\n",
       "      <td>Drama</td>\n",
       "      <td>Germany, Denmark</td>\n",
       "      <td>188</td>\n",
       "      <td>6.0</td>\n",
       "    </tr>\n",
       "    <tr>\n",
       "      <th>3</th>\n",
       "      <td>tt0002101</td>\n",
       "      <td>Cleopatra</td>\n",
       "      <td>1912</td>\n",
       "      <td>Drama, History</td>\n",
       "      <td>USA</td>\n",
       "      <td>446</td>\n",
       "      <td>5.3</td>\n",
       "    </tr>\n",
       "    <tr>\n",
       "      <th>4</th>\n",
       "      <td>tt0002130</td>\n",
       "      <td>L'Inferno</td>\n",
       "      <td>1911</td>\n",
       "      <td>Adventure, Drama, Fantasy</td>\n",
       "      <td>Italy</td>\n",
       "      <td>2237</td>\n",
       "      <td>6.9</td>\n",
       "    </tr>\n",
       "    <tr>\n",
       "      <th>...</th>\n",
       "      <td>...</td>\n",
       "      <td>...</td>\n",
       "      <td>...</td>\n",
       "      <td>...</td>\n",
       "      <td>...</td>\n",
       "      <td>...</td>\n",
       "      <td>...</td>\n",
       "    </tr>\n",
       "    <tr>\n",
       "      <th>85850</th>\n",
       "      <td>tt9908390</td>\n",
       "      <td>Le lion</td>\n",
       "      <td>2020</td>\n",
       "      <td>Comedy</td>\n",
       "      <td>France, Belgium</td>\n",
       "      <td>398</td>\n",
       "      <td>5.5</td>\n",
       "    </tr>\n",
       "    <tr>\n",
       "      <th>85851</th>\n",
       "      <td>tt9911196</td>\n",
       "      <td>De Beentjes van Sint-Hildegard</td>\n",
       "      <td>2020</td>\n",
       "      <td>Comedy, Drama</td>\n",
       "      <td>Netherlands</td>\n",
       "      <td>724</td>\n",
       "      <td>7.9</td>\n",
       "    </tr>\n",
       "    <tr>\n",
       "      <th>85852</th>\n",
       "      <td>tt9911774</td>\n",
       "      <td>Padmavyuhathile Abhimanyu</td>\n",
       "      <td>2019</td>\n",
       "      <td>Drama</td>\n",
       "      <td>India</td>\n",
       "      <td>265</td>\n",
       "      <td>7.8</td>\n",
       "    </tr>\n",
       "    <tr>\n",
       "      <th>85853</th>\n",
       "      <td>tt9914286</td>\n",
       "      <td>Sokagin Çocuklari</td>\n",
       "      <td>2019</td>\n",
       "      <td>Drama, Family</td>\n",
       "      <td>Turkey</td>\n",
       "      <td>194</td>\n",
       "      <td>9.4</td>\n",
       "    </tr>\n",
       "    <tr>\n",
       "      <th>85854</th>\n",
       "      <td>tt9914942</td>\n",
       "      <td>La vida sense la Sara Amat</td>\n",
       "      <td>2019</td>\n",
       "      <td>Drama</td>\n",
       "      <td>Spain</td>\n",
       "      <td>102</td>\n",
       "      <td>6.8</td>\n",
       "    </tr>\n",
       "  </tbody>\n",
       "</table>\n",
       "<p>85855 rows × 7 columns</p>\n",
       "</div>"
      ],
      "text/plain": [
       "      imdb_title_id                           title  year  \\\n",
       "0         tt0000009                      Miss Jerry  1894   \n",
       "1         tt0000574     The Story of the Kelly Gang  1906   \n",
       "2         tt0001892                  Den sorte drøm  1911   \n",
       "3         tt0002101                       Cleopatra  1912   \n",
       "4         tt0002130                       L'Inferno  1911   \n",
       "...             ...                             ...   ...   \n",
       "85850     tt9908390                         Le lion  2020   \n",
       "85851     tt9911196  De Beentjes van Sint-Hildegard  2020   \n",
       "85852     tt9911774       Padmavyuhathile Abhimanyu  2019   \n",
       "85853     tt9914286               Sokagin Çocuklari  2019   \n",
       "85854     tt9914942      La vida sense la Sara Amat  2019   \n",
       "\n",
       "                           genre           country  total_votes  mean_vote  \n",
       "0                        Romance               USA          154        5.9  \n",
       "1        Biography, Crime, Drama         Australia          589        6.3  \n",
       "2                          Drama  Germany, Denmark          188        6.0  \n",
       "3                 Drama, History               USA          446        5.3  \n",
       "4      Adventure, Drama, Fantasy             Italy         2237        6.9  \n",
       "...                          ...               ...          ...        ...  \n",
       "85850                     Comedy   France, Belgium          398        5.5  \n",
       "85851              Comedy, Drama       Netherlands          724        7.9  \n",
       "85852                      Drama             India          265        7.8  \n",
       "85853              Drama, Family            Turkey          194        9.4  \n",
       "85854                      Drama             Spain          102        6.8  \n",
       "\n",
       "[85855 rows x 7 columns]"
      ]
     },
     "execution_count": 5,
     "metadata": {},
     "output_type": "execute_result"
    }
   ],
   "source": [
    "# merge df_movies and df_ratings (outer join)\n",
    "df_movies.merge(df_ratings, on='imdb_title_id', how='outer')"
   ]
  },
  {
   "cell_type": "markdown",
   "id": "554af406",
   "metadata": {},
   "source": [
    "## Exclusive Outer join (Exclusive Full join)"
   ]
  },
  {
   "cell_type": "code",
   "execution_count": 6,
   "id": "18842159",
   "metadata": {},
   "outputs": [
    {
     "data": {
      "text/html": [
       "<div>\n",
       "<style scoped>\n",
       "    .dataframe tbody tr th:only-of-type {\n",
       "        vertical-align: middle;\n",
       "    }\n",
       "\n",
       "    .dataframe tbody tr th {\n",
       "        vertical-align: top;\n",
       "    }\n",
       "\n",
       "    .dataframe thead th {\n",
       "        text-align: right;\n",
       "    }\n",
       "</style>\n",
       "<table border=\"1\" class=\"dataframe\">\n",
       "  <thead>\n",
       "    <tr style=\"text-align: right;\">\n",
       "      <th></th>\n",
       "      <th>imdb_title_id</th>\n",
       "      <th>title</th>\n",
       "      <th>year</th>\n",
       "      <th>genre</th>\n",
       "      <th>country</th>\n",
       "      <th>total_votes</th>\n",
       "      <th>mean_vote</th>\n",
       "      <th>_merge</th>\n",
       "    </tr>\n",
       "  </thead>\n",
       "  <tbody>\n",
       "  </tbody>\n",
       "</table>\n",
       "</div>"
      ],
      "text/plain": [
       "Empty DataFrame\n",
       "Columns: [imdb_title_id, title, year, genre, country, total_votes, mean_vote, _merge]\n",
       "Index: []"
      ]
     },
     "execution_count": 6,
     "metadata": {},
     "output_type": "execute_result"
    }
   ],
   "source": [
    "# merge df_movies and df_ratings (Exclusive Full join)\n",
    "df_movies.merge(df_ratings, on='imdb_title_id', how='outer', \n",
    "                indicator=True).query(\"_merge=='left_only' or _merge=='right_only'\")"
   ]
  },
  {
   "cell_type": "markdown",
   "id": "dbee2e97",
   "metadata": {},
   "source": [
    "##  Left join"
   ]
  },
  {
   "cell_type": "code",
   "execution_count": 7,
   "id": "5317af4a",
   "metadata": {},
   "outputs": [],
   "source": [
    "# extract a 50% sample of the df_movies dataframe\n",
    "df_movies_sample = df_movies.sample(frac=0.5)"
   ]
  },
  {
   "cell_type": "code",
   "execution_count": 8,
   "id": "3e41bd9f",
   "metadata": {},
   "outputs": [],
   "source": [
    "# merge df_movies_sample and df_ratings (left join)\n",
    "df_left = df_movies_sample.merge(df_ratings, on='imdb_title_id',\n",
    "                                 how='left')"
   ]
  },
  {
   "cell_type": "markdown",
   "id": "3014d002",
   "metadata": {},
   "source": [
    "## Exclusive Left join"
   ]
  },
  {
   "cell_type": "code",
   "execution_count": 9,
   "id": "06b64daa",
   "metadata": {},
   "outputs": [],
   "source": [
    "# make a copy of the df_movies dataframe\n",
    "df_movies_2 = df_movies.copy()"
   ]
  },
  {
   "cell_type": "code",
   "execution_count": 10,
   "id": "192b0988",
   "metadata": {},
   "outputs": [],
   "source": [
    "# set the first 1000 values of 'imdb_title_id' column as 'tt1234567890'\n",
    "for index in df_movies_2.index:\n",
    "    if index < 1000:\n",
    "        df_movies_2.loc[index, 'imdb_title_id'] = 'tt1234567890'"
   ]
  },
  {
   "cell_type": "code",
   "execution_count": 11,
   "id": "d79c5ba4",
   "metadata": {},
   "outputs": [],
   "source": [
    "# merge df_movies_2 and df_ratings (exclusive left join)\n",
    "df_exclusive_left = df_movies_2.merge(df_ratings,\n",
    "                                      on='imdb_title_id',\n",
    "                                      how='outer', \n",
    "                                      indicator=True).query(\"_merge=='left_only'\")"
   ]
  },
  {
   "cell_type": "markdown",
   "id": "4a2007ee",
   "metadata": {},
   "source": [
    "## Right join"
   ]
  },
  {
   "cell_type": "code",
   "execution_count": 12,
   "id": "fe292156",
   "metadata": {},
   "outputs": [],
   "source": [
    "# extract a 30% sample of the df_ratings dataframe\n",
    "df_ratings_sample = df_ratings.sample(frac=0.3)"
   ]
  },
  {
   "cell_type": "code",
   "execution_count": 13,
   "id": "0ffdcd45",
   "metadata": {},
   "outputs": [],
   "source": [
    "# merge df_movies and df_ratings_sample (right join)\n",
    "df_right = df_movies.merge(df_ratings_sample, on='imdb_title_id',\n",
    "                           how='right')"
   ]
  },
  {
   "cell_type": "markdown",
   "id": "c79f3005",
   "metadata": {},
   "source": [
    "## Exclusive Right join"
   ]
  },
  {
   "cell_type": "code",
   "execution_count": 14,
   "id": "048c2de3",
   "metadata": {},
   "outputs": [],
   "source": [
    "# make a copy of the df_ratings dataframe\n",
    "df_ratings_2 = df_ratings.copy()"
   ]
  },
  {
   "cell_type": "code",
   "execution_count": 15,
   "id": "f71e384a",
   "metadata": {},
   "outputs": [],
   "source": [
    "# set the first 1000 values of 'imdb_title_id' column as 'tt1234567890'\n",
    "for index in df_ratings_2.index:\n",
    "    if index < 1000:\n",
    "        df_ratings_2.loc[index, 'imdb_title_id'] = 'tt1234567890'"
   ]
  },
  {
   "cell_type": "code",
   "execution_count": 16,
   "id": "358048b3",
   "metadata": {},
   "outputs": [],
   "source": [
    "# merge df_movies and df_ratings_2 (exclusive right join)\n",
    "df_exclusive_right = df_movies.merge(df_ratings_2,\n",
    "                                     on='imdb_title_id',\n",
    "                                     how='outer', \n",
    "                                     indicator=True).query(\"_merge=='right_only'\")"
   ]
  }
 ],
 "metadata": {
  "kernelspec": {
   "display_name": "Python 3",
   "language": "python",
   "name": "python3"
  },
  "language_info": {
   "codemirror_mode": {
    "name": "ipython",
    "version": 3
   },
   "file_extension": ".py",
   "mimetype": "text/x-python",
   "name": "python",
   "nbconvert_exporter": "python",
   "pygments_lexer": "ipython3",
   "version": "3.8.8"
  },
  "toc": {
   "base_numbering": 1,
   "nav_menu": {},
   "number_sections": true,
   "sideBar": true,
   "skip_h1_title": false,
   "title_cell": "Table of Contents",
   "title_sidebar": "Contents",
   "toc_cell": false,
   "toc_position": {},
   "toc_section_display": true,
   "toc_window_display": false
  }
 },
 "nbformat": 4,
 "nbformat_minor": 5
}
