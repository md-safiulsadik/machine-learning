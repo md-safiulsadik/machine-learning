{
 "cells": [
  {
   "cell_type": "code",
   "execution_count": null,
   "id": "6f179e1f",
   "metadata": {},
   "outputs": [],
   "source": [
    "import pandas as pd"
   ]
  },
  {
   "cell_type": "code",
   "execution_count": null,
   "id": "ad07a021",
   "metadata": {},
   "outputs": [],
   "source": [
    "# reads csv file\n",
    "df = pd.read_csv('players_20.csv')\n",
    "# set index\n",
    "df.set_index('short_name', inplace=True)\n",
    "# select column\n",
    "df = df[['long_name', 'age', 'dob', 'height_cm', 'weight_kg', 'nationality', 'club']]"
   ]
  },
  {
   "cell_type": "code",
   "execution_count": null,
   "id": "733e2174",
   "metadata": {},
   "outputs": [],
   "source": [
    "# show dataframe\n",
    "df"
   ]
  },
  {
   "cell_type": "markdown",
   "id": "184d00fd",
   "metadata": {},
   "source": [
    "# query()"
   ]
  },
  {
   "cell_type": "code",
   "execution_count": null,
   "id": "57c700f0",
   "metadata": {},
   "outputs": [],
   "source": [
    "# select players older than 34\n",
    "df.query(\"age>34\")\n",
    "\n",
    "# exercise: write the equivalent boolean slicing\n"
   ]
  },
  {
   "cell_type": "code",
   "execution_count": null,
   "id": "6e977d4c",
   "metadata": {
    "scrolled": true
   },
   "outputs": [],
   "source": [
    "# select players older than 34 from Italy\n",
    "df.query(\"age>34 and nationality=='Italy'\")\n",
    "\n",
    "# exercise: write the equivalent boolean slicing\n"
   ]
  },
  {
   "cell_type": "code",
   "execution_count": null,
   "id": "e2c049da",
   "metadata": {},
   "outputs": [],
   "source": [
    "# add a not operator to the first example\n",
    "df.query(\"not(age>34)\")\n",
    "\n",
    "# exercise: write the equivalent boolean slicing\n"
   ]
  },
  {
   "cell_type": "code",
   "execution_count": null,
   "id": "c2c8b5f5",
   "metadata": {
    "scrolled": true
   },
   "outputs": [],
   "source": [
    "# convert height to meters and select those with height above 1.8\n",
    "df.query(\"height_cm/100 > 1.8\")\n",
    "\n",
    "# exercise: write the equivalent boolean slicing\n"
   ]
  },
  {
   "cell_type": "code",
   "execution_count": null,
   "id": "88866580",
   "metadata": {},
   "outputs": [],
   "source": [
    "# select players that were born after 1990\n",
    "\n",
    "# check out data types\n",
    "df.dtypes\n",
    "# conver \"dob\" column to datetime type\n",
    "df['dob'] = df['dob'].astype('datetime64')\n",
    "# query\n",
    "df.query(\"dob.dt.year > 1990\")\n",
    "\n",
    "# exercise: write the equivalent boolean slicing\n"
   ]
  }
 ],
 "metadata": {
  "kernelspec": {
   "display_name": "Python 3",
   "language": "python",
   "name": "python3"
  },
  "language_info": {
   "codemirror_mode": {
    "name": "ipython",
    "version": 3
   },
   "file_extension": ".py",
   "mimetype": "text/x-python",
   "name": "python",
   "nbconvert_exporter": "python",
   "pygments_lexer": "ipython3",
   "version": "3.8.8"
  },
  "toc": {
   "base_numbering": 1,
   "nav_menu": {},
   "number_sections": true,
   "sideBar": true,
   "skip_h1_title": false,
   "title_cell": "Table of Contents",
   "title_sidebar": "Contents",
   "toc_cell": false,
   "toc_position": {},
   "toc_section_display": true,
   "toc_window_display": false
  }
 },
 "nbformat": 4,
 "nbformat_minor": 5
}
