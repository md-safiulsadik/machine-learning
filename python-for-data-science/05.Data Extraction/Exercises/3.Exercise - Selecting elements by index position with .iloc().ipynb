{
 "cells": [
  {
   "cell_type": "code",
   "execution_count": null,
   "id": "6f179e1f",
   "metadata": {},
   "outputs": [],
   "source": [
    "import pandas as pd"
   ]
  },
  {
   "cell_type": "code",
   "execution_count": null,
   "id": "ad07a021",
   "metadata": {},
   "outputs": [],
   "source": [
    "# reads csv file\n",
    "df = pd.read_csv('players_20.csv')\n",
    "# set index\n",
    "df.set_index('short_name', inplace=True)\n",
    "# select column\n",
    "df = df[['long_name', 'age', 'dob', 'height_cm', 'weight_kg', 'nationality', 'club']]"
   ]
  },
  {
   "cell_type": "code",
   "execution_count": null,
   "id": "733e2174",
   "metadata": {},
   "outputs": [],
   "source": [
    "# show dataframe\n",
    "df"
   ]
  },
  {
   "cell_type": "markdown",
   "id": "8d67a493",
   "metadata": {},
   "source": [
    "# Selecting with a single value"
   ]
  },
  {
   "cell_type": "markdown",
   "id": "0489d915",
   "metadata": {},
   "source": [
    "iloc[row_position, column_position]"
   ]
  },
  {
   "cell_type": "code",
   "execution_count": null,
   "id": "d500dc19",
   "metadata": {},
   "outputs": [],
   "source": [
    "# get the height of L.Messi\n"
   ]
  },
  {
   "cell_type": "code",
   "execution_count": null,
   "id": "e98c90f1",
   "metadata": {},
   "outputs": [],
   "source": [
    "# get the weight of Cristiano Ronaldo\n"
   ]
  },
  {
   "cell_type": "code",
   "execution_count": null,
   "id": "d74f5c8e",
   "metadata": {},
   "outputs": [],
   "source": [
    "# get all rows inside the 'height_cm column'\n"
   ]
  },
  {
   "cell_type": "code",
   "execution_count": null,
   "id": "3357f2bf",
   "metadata": {},
   "outputs": [],
   "source": [
    "# get all columns that correspond to the index 'L. Messi'\n"
   ]
  },
  {
   "cell_type": "markdown",
   "id": "40bbab76",
   "metadata": {},
   "source": [
    "# Selecting with a list of values"
   ]
  },
  {
   "cell_type": "code",
   "execution_count": null,
   "id": "5cbd4670",
   "metadata": {},
   "outputs": [],
   "source": [
    "# get all data about L.Messi and Cristiano Ronaldo\n"
   ]
  },
  {
   "cell_type": "code",
   "execution_count": null,
   "id": "aa47e64e",
   "metadata": {},
   "outputs": [],
   "source": [
    "# get the height of L.Messi and Cristiano Ronaldo\n"
   ]
  },
  {
   "cell_type": "code",
   "execution_count": null,
   "id": "87b8db25",
   "metadata": {},
   "outputs": [],
   "source": [
    "# get the height and weight of L.Messi\n"
   ]
  },
  {
   "cell_type": "code",
   "execution_count": null,
   "id": "d833fcdf",
   "metadata": {},
   "outputs": [],
   "source": [
    "# get height and weight of L.Messi and Cristiano Ronaldo\n"
   ]
  },
  {
   "cell_type": "markdown",
   "id": "8b5299c4",
   "metadata": {},
   "source": [
    "# Selecting a range of data with a slice"
   ]
  },
  {
   "cell_type": "markdown",
   "id": "47eabc80",
   "metadata": {},
   "source": [
    "start:stop  (Note that the start is included but the stop is excluded)"
   ]
  },
  {
   "cell_type": "code",
   "execution_count": null,
   "id": "18be9cf0",
   "metadata": {},
   "outputs": [],
   "source": [
    "# slice column labels. From column \"age\" to column \"club\"\n",
    "# players = ['L. Messi', 'Cristiano Ronaldo']\n",
    "players = [0, 1]\n",
    "\n"
   ]
  },
  {
   "cell_type": "code",
   "execution_count": null,
   "id": "5c4c43e0",
   "metadata": {},
   "outputs": [],
   "source": [
    "# slice index labels. From top1 to top10 player\n",
    "# columns = ['age', 'dob', 'height_cm', 'weight_kg']\n",
    "columns = [1,2,3,4]\n",
    "\n",
    "# get top1 and top10 player name\n"
   ]
  },
  {
   "cell_type": "markdown",
   "id": "a96f052e",
   "metadata": {},
   "source": [
    "# Selecting with conditions"
   ]
  },
  {
   "cell_type": "markdown",
   "id": "021ce028",
   "metadata": {},
   "source": [
    "iloc cannot accept a boolean Series, but only a boolean list. We have to use the list() function to convert a Series into a boolean list."
   ]
  },
  {
   "cell_type": "code",
   "execution_count": null,
   "id": "31273b8a",
   "metadata": {},
   "outputs": [],
   "source": [
    "# one condition: select player with height above 180cm\n",
    "# columns = ['age', 'dob', 'height_cm', 'weight_kg']\n",
    "columns = [1,2,3,4]\n",
    "\n"
   ]
  },
  {
   "cell_type": "code",
   "execution_count": null,
   "id": "f2d3232f",
   "metadata": {},
   "outputs": [],
   "source": [
    "# multiple conditions: select player with height above 180cm from Argentina\n"
   ]
  }
 ],
 "metadata": {
  "kernelspec": {
   "display_name": "Python 3",
   "language": "python",
   "name": "python3"
  },
  "language_info": {
   "codemirror_mode": {
    "name": "ipython",
    "version": 3
   },
   "file_extension": ".py",
   "mimetype": "text/x-python",
   "name": "python",
   "nbconvert_exporter": "python",
   "pygments_lexer": "ipython3",
   "version": "3.8.8"
  },
  "toc": {
   "base_numbering": 1,
   "nav_menu": {},
   "number_sections": true,
   "sideBar": true,
   "skip_h1_title": false,
   "title_cell": "Table of Contents",
   "title_sidebar": "Contents",
   "toc_cell": false,
   "toc_position": {},
   "toc_section_display": true,
   "toc_window_display": false
  }
 },
 "nbformat": 4,
 "nbformat_minor": 5
}
