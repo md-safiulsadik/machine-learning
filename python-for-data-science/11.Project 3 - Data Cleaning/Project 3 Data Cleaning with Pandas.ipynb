{
 "cells": [
  {
   "cell_type": "code",
   "execution_count": 108,
   "metadata": {},
   "outputs": [],
   "source": [
    "import pandas as pd\n",
    "import matplotlib.pyplot as plt"
   ]
  },
  {
   "cell_type": "markdown",
   "metadata": {},
   "source": [
    "# Dataset Overview"
   ]
  },
  {
   "cell_type": "code",
   "execution_count": 109,
   "metadata": {},
   "outputs": [],
   "source": [
    "# read csv file\n",
    "df_netflix = pd.read_csv('netflix_titles.csv')"
   ]
  },
  {
   "cell_type": "code",
   "execution_count": 110,
   "metadata": {},
   "outputs": [
    {
     "data": {
      "text/plain": [
       "show_id         object\n",
       "type            object\n",
       "title           object\n",
       "director        object\n",
       "cast            object\n",
       "country         object\n",
       "date_added      object\n",
       "release_year     int64\n",
       "rating          object\n",
       "duration        object\n",
       "listed_in       object\n",
       "description     object\n",
       "dtype: object"
      ]
     },
     "execution_count": 110,
     "metadata": {},
     "output_type": "execute_result"
    }
   ],
   "source": [
    "# data types\n",
    "df_netflix.dtypes"
   ]
  },
  {
   "cell_type": "code",
   "execution_count": 111,
   "metadata": {},
   "outputs": [
    {
     "data": {
      "text/plain": [
       "(8807, 12)"
      ]
     },
     "execution_count": 111,
     "metadata": {},
     "output_type": "execute_result"
    }
   ],
   "source": [
    "# shape of dataframe\n",
    "df_netflix.shape"
   ]
  },
  {
   "cell_type": "markdown",
   "metadata": {},
   "source": [
    "# Identifying Missing Data"
   ]
  },
  {
   "cell_type": "code",
   "execution_count": 112,
   "metadata": {},
   "outputs": [
    {
     "data": {
      "text/plain": [
       "director        2634\n",
       "country          831\n",
       "cast             825\n",
       "date_added        10\n",
       "rating             4\n",
       "duration           3\n",
       "show_id            0\n",
       "type               0\n",
       "title              0\n",
       "release_year       0\n",
       "listed_in          0\n",
       "description        0\n",
       "dtype: int64"
      ]
     },
     "execution_count": 112,
     "metadata": {},
     "output_type": "execute_result"
    }
   ],
   "source": [
    "# number of rows missing in each column\n",
    "df_netflix.isnull().sum().sort_values(ascending=False)"
   ]
  },
  {
   "cell_type": "code",
   "execution_count": 113,
   "metadata": {},
   "outputs": [
    {
     "name": "stdout",
     "output_type": "stream",
     "text": [
      "show_id: 0.0%\n",
      "type: 0.0%\n",
      "title: 0.0%\n",
      "director: 29.91%\n",
      "cast: 9.37%\n",
      "country: 9.44%\n",
      "date_added: 0.11%\n",
      "release_year: 0.0%\n",
      "rating: 0.05%\n",
      "duration: 0.03%\n",
      "listed_in: 0.0%\n",
      "description: 0.0%\n"
     ]
    }
   ],
   "source": [
    "# % of rows missing in each column\n",
    "for column in df_netflix.columns:\n",
    "    percentage = df_netflix[column].isnull().mean()\n",
    "    print(f'{column}: {round(percentage*100, 2)}%')"
   ]
  },
  {
   "cell_type": "markdown",
   "metadata": {},
   "source": [
    "# Dealing with missing data"
   ]
  },
  {
   "cell_type": "code",
   "execution_count": 114,
   "metadata": {},
   "outputs": [
    {
     "data": {
      "text/html": [
       "<div>\n",
       "<style scoped>\n",
       "    .dataframe tbody tr th:only-of-type {\n",
       "        vertical-align: middle;\n",
       "    }\n",
       "\n",
       "    .dataframe tbody tr th {\n",
       "        vertical-align: top;\n",
       "    }\n",
       "\n",
       "    .dataframe thead th {\n",
       "        text-align: right;\n",
       "    }\n",
       "</style>\n",
       "<table border=\"1\" class=\"dataframe\">\n",
       "  <thead>\n",
       "    <tr style=\"text-align: right;\">\n",
       "      <th></th>\n",
       "      <th>show_id</th>\n",
       "      <th>type</th>\n",
       "      <th>title</th>\n",
       "      <th>director</th>\n",
       "      <th>cast</th>\n",
       "      <th>country</th>\n",
       "      <th>date_added</th>\n",
       "      <th>release_year</th>\n",
       "      <th>rating</th>\n",
       "      <th>duration</th>\n",
       "      <th>listed_in</th>\n",
       "      <th>description</th>\n",
       "    </tr>\n",
       "  </thead>\n",
       "  <tbody>\n",
       "    <tr>\n",
       "      <th>0</th>\n",
       "      <td>s1</td>\n",
       "      <td>Movie</td>\n",
       "      <td>Dick Johnson Is Dead</td>\n",
       "      <td>Kirsten Johnson</td>\n",
       "      <td>NaN</td>\n",
       "      <td>United States</td>\n",
       "      <td>September 25, 2021</td>\n",
       "      <td>2020</td>\n",
       "      <td>PG-13</td>\n",
       "      <td>90 min</td>\n",
       "      <td>Documentaries</td>\n",
       "      <td>As her father nears the end of his life, filmm...</td>\n",
       "    </tr>\n",
       "    <tr>\n",
       "      <th>2</th>\n",
       "      <td>s3</td>\n",
       "      <td>TV Show</td>\n",
       "      <td>Ganglands</td>\n",
       "      <td>Julien Leclercq</td>\n",
       "      <td>Sami Bouajila, Tracy Gotoas, Samuel Jouy, Nabi...</td>\n",
       "      <td>NaN</td>\n",
       "      <td>September 24, 2021</td>\n",
       "      <td>2021</td>\n",
       "      <td>TV-MA</td>\n",
       "      <td>1 Season</td>\n",
       "      <td>Crime TV Shows, International TV Shows, TV Act...</td>\n",
       "      <td>To protect his family from a powerful drug lor...</td>\n",
       "    </tr>\n",
       "    <tr>\n",
       "      <th>5</th>\n",
       "      <td>s6</td>\n",
       "      <td>TV Show</td>\n",
       "      <td>Midnight Mass</td>\n",
       "      <td>Mike Flanagan</td>\n",
       "      <td>Kate Siegel, Zach Gilford, Hamish Linklater, H...</td>\n",
       "      <td>NaN</td>\n",
       "      <td>September 24, 2021</td>\n",
       "      <td>2021</td>\n",
       "      <td>TV-MA</td>\n",
       "      <td>1 Season</td>\n",
       "      <td>TV Dramas, TV Horror, TV Mysteries</td>\n",
       "      <td>The arrival of a charismatic young priest brin...</td>\n",
       "    </tr>\n",
       "    <tr>\n",
       "      <th>6</th>\n",
       "      <td>s7</td>\n",
       "      <td>Movie</td>\n",
       "      <td>My Little Pony: A New Generation</td>\n",
       "      <td>Robert Cullen, José Luis Ucha</td>\n",
       "      <td>Vanessa Hudgens, Kimiko Glenn, James Marsden, ...</td>\n",
       "      <td>NaN</td>\n",
       "      <td>September 24, 2021</td>\n",
       "      <td>2021</td>\n",
       "      <td>PG</td>\n",
       "      <td>91 min</td>\n",
       "      <td>Children &amp; Family Movies</td>\n",
       "      <td>Equestria's divided. But a bright-eyed hero be...</td>\n",
       "    </tr>\n",
       "    <tr>\n",
       "      <th>7</th>\n",
       "      <td>s8</td>\n",
       "      <td>Movie</td>\n",
       "      <td>Sankofa</td>\n",
       "      <td>Haile Gerima</td>\n",
       "      <td>Kofi Ghanaba, Oyafunmike Ogunlano, Alexandra D...</td>\n",
       "      <td>United States, Ghana, Burkina Faso, United Kin...</td>\n",
       "      <td>September 24, 2021</td>\n",
       "      <td>1993</td>\n",
       "      <td>TV-MA</td>\n",
       "      <td>125 min</td>\n",
       "      <td>Dramas, Independent Movies, International Movies</td>\n",
       "      <td>On a photo shoot in Ghana, an American model s...</td>\n",
       "    </tr>\n",
       "    <tr>\n",
       "      <th>...</th>\n",
       "      <td>...</td>\n",
       "      <td>...</td>\n",
       "      <td>...</td>\n",
       "      <td>...</td>\n",
       "      <td>...</td>\n",
       "      <td>...</td>\n",
       "      <td>...</td>\n",
       "      <td>...</td>\n",
       "      <td>...</td>\n",
       "      <td>...</td>\n",
       "      <td>...</td>\n",
       "      <td>...</td>\n",
       "    </tr>\n",
       "    <tr>\n",
       "      <th>8801</th>\n",
       "      <td>s8802</td>\n",
       "      <td>Movie</td>\n",
       "      <td>Zinzana</td>\n",
       "      <td>Majid Al Ansari</td>\n",
       "      <td>Ali Suliman, Saleh Bakri, Yasa, Ali Al-Jabri, ...</td>\n",
       "      <td>United Arab Emirates, Jordan</td>\n",
       "      <td>March 9, 2016</td>\n",
       "      <td>2015</td>\n",
       "      <td>TV-MA</td>\n",
       "      <td>96 min</td>\n",
       "      <td>Dramas, International Movies, Thrillers</td>\n",
       "      <td>Recovering alcoholic Talal wakes up inside a s...</td>\n",
       "    </tr>\n",
       "    <tr>\n",
       "      <th>8802</th>\n",
       "      <td>s8803</td>\n",
       "      <td>Movie</td>\n",
       "      <td>Zodiac</td>\n",
       "      <td>David Fincher</td>\n",
       "      <td>Mark Ruffalo, Jake Gyllenhaal, Robert Downey J...</td>\n",
       "      <td>United States</td>\n",
       "      <td>November 20, 2019</td>\n",
       "      <td>2007</td>\n",
       "      <td>R</td>\n",
       "      <td>158 min</td>\n",
       "      <td>Cult Movies, Dramas, Thrillers</td>\n",
       "      <td>A political cartoonist, a crime reporter and a...</td>\n",
       "    </tr>\n",
       "    <tr>\n",
       "      <th>8804</th>\n",
       "      <td>s8805</td>\n",
       "      <td>Movie</td>\n",
       "      <td>Zombieland</td>\n",
       "      <td>Ruben Fleischer</td>\n",
       "      <td>Jesse Eisenberg, Woody Harrelson, Emma Stone, ...</td>\n",
       "      <td>United States</td>\n",
       "      <td>November 1, 2019</td>\n",
       "      <td>2009</td>\n",
       "      <td>R</td>\n",
       "      <td>88 min</td>\n",
       "      <td>Comedies, Horror Movies</td>\n",
       "      <td>Looking to survive in a world taken over by zo...</td>\n",
       "    </tr>\n",
       "    <tr>\n",
       "      <th>8805</th>\n",
       "      <td>s8806</td>\n",
       "      <td>Movie</td>\n",
       "      <td>Zoom</td>\n",
       "      <td>Peter Hewitt</td>\n",
       "      <td>Tim Allen, Courteney Cox, Chevy Chase, Kate Ma...</td>\n",
       "      <td>United States</td>\n",
       "      <td>January 11, 2020</td>\n",
       "      <td>2006</td>\n",
       "      <td>PG</td>\n",
       "      <td>88 min</td>\n",
       "      <td>Children &amp; Family Movies, Comedies</td>\n",
       "      <td>Dragged from civilian life, a former superhero...</td>\n",
       "    </tr>\n",
       "    <tr>\n",
       "      <th>8806</th>\n",
       "      <td>s8807</td>\n",
       "      <td>Movie</td>\n",
       "      <td>Zubaan</td>\n",
       "      <td>Mozez Singh</td>\n",
       "      <td>Vicky Kaushal, Sarah-Jane Dias, Raaghav Chanan...</td>\n",
       "      <td>India</td>\n",
       "      <td>March 2, 2019</td>\n",
       "      <td>2015</td>\n",
       "      <td>TV-14</td>\n",
       "      <td>111 min</td>\n",
       "      <td>Dramas, International Movies, Music &amp; Musicals</td>\n",
       "      <td>A scrappy but poor boy worms his way into a ty...</td>\n",
       "    </tr>\n",
       "  </tbody>\n",
       "</table>\n",
       "<p>6173 rows × 12 columns</p>\n",
       "</div>"
      ],
      "text/plain": [
       "     show_id     type                             title  \\\n",
       "0         s1    Movie              Dick Johnson Is Dead   \n",
       "2         s3  TV Show                         Ganglands   \n",
       "5         s6  TV Show                     Midnight Mass   \n",
       "6         s7    Movie  My Little Pony: A New Generation   \n",
       "7         s8    Movie                           Sankofa   \n",
       "...      ...      ...                               ...   \n",
       "8801   s8802    Movie                           Zinzana   \n",
       "8802   s8803    Movie                            Zodiac   \n",
       "8804   s8805    Movie                        Zombieland   \n",
       "8805   s8806    Movie                              Zoom   \n",
       "8806   s8807    Movie                            Zubaan   \n",
       "\n",
       "                           director  \\\n",
       "0                   Kirsten Johnson   \n",
       "2                   Julien Leclercq   \n",
       "5                     Mike Flanagan   \n",
       "6     Robert Cullen, José Luis Ucha   \n",
       "7                      Haile Gerima   \n",
       "...                             ...   \n",
       "8801                Majid Al Ansari   \n",
       "8802                  David Fincher   \n",
       "8804                Ruben Fleischer   \n",
       "8805                   Peter Hewitt   \n",
       "8806                    Mozez Singh   \n",
       "\n",
       "                                                   cast  \\\n",
       "0                                                   NaN   \n",
       "2     Sami Bouajila, Tracy Gotoas, Samuel Jouy, Nabi...   \n",
       "5     Kate Siegel, Zach Gilford, Hamish Linklater, H...   \n",
       "6     Vanessa Hudgens, Kimiko Glenn, James Marsden, ...   \n",
       "7     Kofi Ghanaba, Oyafunmike Ogunlano, Alexandra D...   \n",
       "...                                                 ...   \n",
       "8801  Ali Suliman, Saleh Bakri, Yasa, Ali Al-Jabri, ...   \n",
       "8802  Mark Ruffalo, Jake Gyllenhaal, Robert Downey J...   \n",
       "8804  Jesse Eisenberg, Woody Harrelson, Emma Stone, ...   \n",
       "8805  Tim Allen, Courteney Cox, Chevy Chase, Kate Ma...   \n",
       "8806  Vicky Kaushal, Sarah-Jane Dias, Raaghav Chanan...   \n",
       "\n",
       "                                                country          date_added  \\\n",
       "0                                         United States  September 25, 2021   \n",
       "2                                                   NaN  September 24, 2021   \n",
       "5                                                   NaN  September 24, 2021   \n",
       "6                                                   NaN  September 24, 2021   \n",
       "7     United States, Ghana, Burkina Faso, United Kin...  September 24, 2021   \n",
       "...                                                 ...                 ...   \n",
       "8801                       United Arab Emirates, Jordan       March 9, 2016   \n",
       "8802                                      United States   November 20, 2019   \n",
       "8804                                      United States    November 1, 2019   \n",
       "8805                                      United States    January 11, 2020   \n",
       "8806                                              India       March 2, 2019   \n",
       "\n",
       "      release_year rating  duration  \\\n",
       "0             2020  PG-13    90 min   \n",
       "2             2021  TV-MA  1 Season   \n",
       "5             2021  TV-MA  1 Season   \n",
       "6             2021     PG    91 min   \n",
       "7             1993  TV-MA   125 min   \n",
       "...            ...    ...       ...   \n",
       "8801          2015  TV-MA    96 min   \n",
       "8802          2007      R   158 min   \n",
       "8804          2009      R    88 min   \n",
       "8805          2006     PG    88 min   \n",
       "8806          2015  TV-14   111 min   \n",
       "\n",
       "                                              listed_in  \\\n",
       "0                                         Documentaries   \n",
       "2     Crime TV Shows, International TV Shows, TV Act...   \n",
       "5                    TV Dramas, TV Horror, TV Mysteries   \n",
       "6                              Children & Family Movies   \n",
       "7      Dramas, Independent Movies, International Movies   \n",
       "...                                                 ...   \n",
       "8801            Dramas, International Movies, Thrillers   \n",
       "8802                     Cult Movies, Dramas, Thrillers   \n",
       "8804                            Comedies, Horror Movies   \n",
       "8805                 Children & Family Movies, Comedies   \n",
       "8806     Dramas, International Movies, Music & Musicals   \n",
       "\n",
       "                                            description  \n",
       "0     As her father nears the end of his life, filmm...  \n",
       "2     To protect his family from a powerful drug lor...  \n",
       "5     The arrival of a charismatic young priest brin...  \n",
       "6     Equestria's divided. But a bright-eyed hero be...  \n",
       "7     On a photo shoot in Ghana, an American model s...  \n",
       "...                                                 ...  \n",
       "8801  Recovering alcoholic Talal wakes up inside a s...  \n",
       "8802  A political cartoonist, a crime reporter and a...  \n",
       "8804  Looking to survive in a world taken over by zo...  \n",
       "8805  Dragged from civilian life, a former superhero...  \n",
       "8806  A scrappy but poor boy worms his way into a ty...  \n",
       "\n",
       "[6173 rows x 12 columns]"
      ]
     },
     "execution_count": 114,
     "metadata": {},
     "output_type": "execute_result"
    }
   ],
   "source": [
    "# Remove a column or row with .drop, .dropna or .isnull\n",
    "\n",
    "# drop column\n",
    "df_netflix.drop('director', axis=1)\n",
    "# drop row\n",
    "no_director = df_netflix[df_netflix['director'].isnull()].index\n",
    "df_netflix.drop(no_director, axis=0)\n",
    "# drop row\n",
    "# no_duration = df_netflix[df_netflix['duration'].isnull()].index\n",
    "# df_netflix.drop(no_duration, axis=0, inplace=True)\n",
    "\n",
    "# ~ + .isnull()\n",
    "df_netflix[~df_netflix['director'].isnull()]\n",
    "\n",
    "# dropna()\n",
    "df_netflix.dropna(subset=['director'])"
   ]
  },
  {
   "cell_type": "code",
   "execution_count": 115,
   "metadata": {},
   "outputs": [],
   "source": [
    "# Replace it by the mean, median (numeric data) or mode (categorical data)\n",
    "df_netflix[df_netflix['rating'].isnull()]\n",
    "mode = ''.join(df_netflix['rating'].mode())\n",
    "df_netflix['rating'].fillna(mode, inplace=True)"
   ]
  },
  {
   "cell_type": "code",
   "execution_count": 116,
   "metadata": {},
   "outputs": [
    {
     "data": {
      "text/html": [
       "<div>\n",
       "<style scoped>\n",
       "    .dataframe tbody tr th:only-of-type {\n",
       "        vertical-align: middle;\n",
       "    }\n",
       "\n",
       "    .dataframe tbody tr th {\n",
       "        vertical-align: top;\n",
       "    }\n",
       "\n",
       "    .dataframe thead th {\n",
       "        text-align: right;\n",
       "    }\n",
       "</style>\n",
       "<table border=\"1\" class=\"dataframe\">\n",
       "  <thead>\n",
       "    <tr style=\"text-align: right;\">\n",
       "      <th></th>\n",
       "      <th>show_id</th>\n",
       "      <th>type</th>\n",
       "      <th>title</th>\n",
       "      <th>director</th>\n",
       "      <th>cast</th>\n",
       "      <th>country</th>\n",
       "      <th>date_added</th>\n",
       "      <th>release_year</th>\n",
       "      <th>rating</th>\n",
       "      <th>duration</th>\n",
       "      <th>listed_in</th>\n",
       "      <th>description</th>\n",
       "    </tr>\n",
       "  </thead>\n",
       "  <tbody>\n",
       "    <tr>\n",
       "      <th>5541</th>\n",
       "      <td>s5542</td>\n",
       "      <td>Movie</td>\n",
       "      <td>Louis C.K. 2017</td>\n",
       "      <td>Louis C.K.</td>\n",
       "      <td>Louis C.K.</td>\n",
       "      <td>United States</td>\n",
       "      <td>April 4, 2017</td>\n",
       "      <td>2017</td>\n",
       "      <td>74 min</td>\n",
       "      <td>NaN</td>\n",
       "      <td>Movies</td>\n",
       "      <td>Louis C.K. muses on religion, eternal love, gi...</td>\n",
       "    </tr>\n",
       "    <tr>\n",
       "      <th>5794</th>\n",
       "      <td>s5795</td>\n",
       "      <td>Movie</td>\n",
       "      <td>Louis C.K.: Hilarious</td>\n",
       "      <td>Louis C.K.</td>\n",
       "      <td>Louis C.K.</td>\n",
       "      <td>United States</td>\n",
       "      <td>September 16, 2016</td>\n",
       "      <td>2010</td>\n",
       "      <td>84 min</td>\n",
       "      <td>NaN</td>\n",
       "      <td>Movies</td>\n",
       "      <td>Emmy-winning comedy writer Louis C.K. brings h...</td>\n",
       "    </tr>\n",
       "    <tr>\n",
       "      <th>5813</th>\n",
       "      <td>s5814</td>\n",
       "      <td>Movie</td>\n",
       "      <td>Louis C.K.: Live at the Comedy Store</td>\n",
       "      <td>Louis C.K.</td>\n",
       "      <td>Louis C.K.</td>\n",
       "      <td>United States</td>\n",
       "      <td>August 15, 2016</td>\n",
       "      <td>2015</td>\n",
       "      <td>66 min</td>\n",
       "      <td>NaN</td>\n",
       "      <td>Movies</td>\n",
       "      <td>The comic puts his trademark hilarious/thought...</td>\n",
       "    </tr>\n",
       "  </tbody>\n",
       "</table>\n",
       "</div>"
      ],
      "text/plain": [
       "     show_id   type                                 title    director  \\\n",
       "5541   s5542  Movie                       Louis C.K. 2017  Louis C.K.   \n",
       "5794   s5795  Movie                 Louis C.K.: Hilarious  Louis C.K.   \n",
       "5813   s5814  Movie  Louis C.K.: Live at the Comedy Store  Louis C.K.   \n",
       "\n",
       "            cast        country          date_added  release_year  rating  \\\n",
       "5541  Louis C.K.  United States       April 4, 2017          2017  74 min   \n",
       "5794  Louis C.K.  United States  September 16, 2016          2010  84 min   \n",
       "5813  Louis C.K.  United States     August 15, 2016          2015  66 min   \n",
       "\n",
       "     duration listed_in                                        description  \n",
       "5541      NaN    Movies  Louis C.K. muses on religion, eternal love, gi...  \n",
       "5794      NaN    Movies  Emmy-winning comedy writer Louis C.K. brings h...  \n",
       "5813      NaN    Movies  The comic puts his trademark hilarious/thought...  "
      ]
     },
     "execution_count": 116,
     "metadata": {},
     "output_type": "execute_result"
    }
   ],
   "source": [
    "df_netflix[df_netflix['duration'].isnull()]"
   ]
  },
  {
   "cell_type": "code",
   "execution_count": 117,
   "metadata": {},
   "outputs": [
    {
     "data": {
      "text/plain": [
       "show_id                                                     s5542\n",
       "type                                                        Movie\n",
       "title                                             Louis C.K. 2017\n",
       "director                                               Louis C.K.\n",
       "cast                                                   Louis C.K.\n",
       "country                                             United States\n",
       "date_added                                          April 4, 2017\n",
       "release_year                                                 2017\n",
       "rating                                                     74 min\n",
       "duration                                                      NaN\n",
       "listed_in                                                  Movies\n",
       "description     Louis C.K. muses on religion, eternal love, gi...\n",
       "Name: 5541, dtype: object"
      ]
     },
     "execution_count": 117,
     "metadata": {},
     "output_type": "execute_result"
    }
   ],
   "source": [
    "df_netflix.loc[5541]"
   ]
  },
  {
   "cell_type": "code",
   "execution_count": 118,
   "metadata": {},
   "outputs": [],
   "source": [
    "# Replace it by an arbitrary number with .fillna()\n",
    "df_netflix['duration'].fillna('0', inplace=True)\n",
    "\n",
    "# backward, forward \n",
    "# df.fillna(method='bfill')\n",
    "# df.fillna(method='ffill')"
   ]
  },
  {
   "cell_type": "markdown",
   "metadata": {},
   "source": [
    "# Identifying Outliers"
   ]
  },
  {
   "cell_type": "code",
   "execution_count": 120,
   "metadata": {},
   "outputs": [
    {
     "data": {
      "text/plain": [
       "0    0\n",
       "Name: 5541, dtype: object"
      ]
     },
     "execution_count": 120,
     "metadata": {},
     "output_type": "execute_result"
    }
   ],
   "source": [
    "df_movie['duration'].str.extract(r'(\\d+)', expand=True).loc[5541]"
   ]
  },
  {
   "cell_type": "code",
   "execution_count": 121,
   "metadata": {},
   "outputs": [
    {
     "data": {
      "text/plain": [
       "TV-MA       2064\n",
       "TV-14       1427\n",
       "R            797\n",
       "TV-PG        540\n",
       "PG-13        490\n",
       "PG           287\n",
       "TV-Y7        139\n",
       "TV-Y         131\n",
       "TV-G         126\n",
       "NR            75\n",
       "G             41\n",
       "TV-Y7-FV       5\n",
       "NC-17          3\n",
       "UR             3\n",
       "74 min         1\n",
       "84 min         1\n",
       "66 min         1\n",
       "Name: rating, dtype: int64"
      ]
     },
     "execution_count": 121,
     "metadata": {},
     "output_type": "execute_result"
    }
   ],
   "source": [
    "df_movie['rating'].value_counts()"
   ]
  },
  {
   "cell_type": "code",
   "execution_count": 122,
   "metadata": {},
   "outputs": [
    {
     "data": {
      "text/plain": [
       "0        90\n",
       "6        91\n",
       "7       125\n",
       "9       104\n",
       "12      127\n",
       "       ... \n",
       "8801     96\n",
       "8802    158\n",
       "8804     88\n",
       "8805     88\n",
       "8806    111\n",
       "Name: 0, Length: 6131, dtype: int64"
      ]
     },
     "execution_count": 122,
     "metadata": {},
     "output_type": "execute_result"
    }
   ],
   "source": [
    "df_movie['duration'].str.split(n=0, expand=True)[0].astype(int)"
   ]
  },
  {
   "cell_type": "code",
   "execution_count": 123,
   "metadata": {},
   "outputs": [],
   "source": [
    "# selecting only movies\n",
    "df_movie = df_netflix[df_netflix['type']=='Movie']\n",
    "\n",
    "# Split Strings by Characters with the str.split Method\n",
    "df_movie = df_movie.assign(minute = df_movie['duration'].str.split(expand=True)[0].astype(int))\n",
    "# df_movie = df_movie.assign(minute = df_movie['duration'].str.extract(r'(\\d+)', expand=True))"
   ]
  },
  {
   "cell_type": "markdown",
   "metadata": {},
   "source": [
    "## Using histograms to identify outliers within numeric data"
   ]
  },
  {
   "cell_type": "code",
   "execution_count": 124,
   "metadata": {},
   "outputs": [
    {
     "data": {
      "image/png": "[encoded data removed]",
      "text/plain": [
       "<Figure size 432x288 with 1 Axes>"
      ]
     },
     "metadata": {
      "needs_background": "light"
     },
     "output_type": "display_data"
    }
   ],
   "source": [
    "# make histogram with pandas\n",
    "ax = df_movie['minute'].plot(kind='hist', bins=10)"
   ]
  },
  {
   "cell_type": "code",
   "execution_count": 131,
   "metadata": {},
   "outputs": [
    {
     "data": {
      "text/plain": [
       "0        90\n",
       "6        91\n",
       "7       125\n",
       "9       104\n",
       "12      127\n",
       "       ... \n",
       "8801     96\n",
       "8802    158\n",
       "8804     88\n",
       "8805     88\n",
       "8806    111\n",
       "Name: minute, Length: 6131, dtype: int64"
      ]
     },
     "execution_count": 131,
     "metadata": {},
     "output_type": "execute_result"
    }
   ],
   "source": [
    "df_movie['minute']"
   ]
  },
  {
   "cell_type": "code",
   "execution_count": 125,
   "metadata": {},
   "outputs": [
    {
     "data": {
      "text/plain": [
       "(-0.313, 31.2]     135\n",
       "(31.2, 62.4]       410\n",
       "(62.4, 93.6]      1867\n",
       "(93.6, 124.8]     2772\n",
       "(124.8, 156.0]     766\n",
       "(156.0, 187.2]     150\n",
       "(187.2, 218.4]      22\n",
       "(218.4, 249.6]       6\n",
       "(249.6, 280.8]       2\n",
       "(280.8, 312.0]       1\n",
       "Name: minute, dtype: int64"
      ]
     },
     "execution_count": 125,
     "metadata": {},
     "output_type": "execute_result"
    }
   ],
   "source": [
    "# get bar ranges with value_counts method and numbers of bins\n",
    "df_movie['minute'].value_counts(bins=10).sort_index()"
   ]
  },
  {
   "cell_type": "code",
   "execution_count": 126,
   "metadata": {},
   "outputs": [
    {
     "data": {
      "text/html": [
       "<div>\n",
       "<style scoped>\n",
       "    .dataframe tbody tr th:only-of-type {\n",
       "        vertical-align: middle;\n",
       "    }\n",
       "\n",
       "    .dataframe tbody tr th {\n",
       "        vertical-align: top;\n",
       "    }\n",
       "\n",
       "    .dataframe thead th {\n",
       "        text-align: right;\n",
       "    }\n",
       "</style>\n",
       "<table border=\"1\" class=\"dataframe\">\n",
       "  <thead>\n",
       "    <tr style=\"text-align: right;\">\n",
       "      <th></th>\n",
       "      <th>show_id</th>\n",
       "      <th>type</th>\n",
       "      <th>title</th>\n",
       "      <th>director</th>\n",
       "      <th>cast</th>\n",
       "      <th>country</th>\n",
       "      <th>date_added</th>\n",
       "      <th>release_year</th>\n",
       "      <th>rating</th>\n",
       "      <th>duration</th>\n",
       "      <th>listed_in</th>\n",
       "      <th>description</th>\n",
       "      <th>minute</th>\n",
       "    </tr>\n",
       "  </thead>\n",
       "  <tbody>\n",
       "    <tr>\n",
       "      <th>22</th>\n",
       "      <td>s23</td>\n",
       "      <td>Movie</td>\n",
       "      <td>Avvai Shanmughi</td>\n",
       "      <td>K.S. Ravikumar</td>\n",
       "      <td>Kamal Hassan, Meena, Gemini Ganesan, Heera Raj...</td>\n",
       "      <td>NaN</td>\n",
       "      <td>September 21, 2021</td>\n",
       "      <td>1996</td>\n",
       "      <td>TV-PG</td>\n",
       "      <td>161 min</td>\n",
       "      <td>Comedies, International Movies</td>\n",
       "      <td>Newly divorced and denied visitation rights wi...</td>\n",
       "      <td>161</td>\n",
       "    </tr>\n",
       "    <tr>\n",
       "      <th>23</th>\n",
       "      <td>s24</td>\n",
       "      <td>Movie</td>\n",
       "      <td>Go! Go! Cory Carson: Chrissy Takes the Wheel</td>\n",
       "      <td>Alex Woo, Stanley Moore</td>\n",
       "      <td>Maisie Benson, Paul Killam, Kerry Gudjohnsen, ...</td>\n",
       "      <td>NaN</td>\n",
       "      <td>September 21, 2021</td>\n",
       "      <td>2021</td>\n",
       "      <td>TV-Y</td>\n",
       "      <td>61 min</td>\n",
       "      <td>Children &amp; Family Movies</td>\n",
       "      <td>From arcade games to sled days and hiccup cure...</td>\n",
       "      <td>61</td>\n",
       "    </tr>\n",
       "    <tr>\n",
       "      <th>24</th>\n",
       "      <td>s25</td>\n",
       "      <td>Movie</td>\n",
       "      <td>Jeans</td>\n",
       "      <td>S. Shankar</td>\n",
       "      <td>Prashanth, Aishwarya Rai Bachchan, Sri Lakshmi...</td>\n",
       "      <td>India</td>\n",
       "      <td>September 21, 2021</td>\n",
       "      <td>1998</td>\n",
       "      <td>TV-14</td>\n",
       "      <td>166 min</td>\n",
       "      <td>Comedies, International Movies, Romantic Movies</td>\n",
       "      <td>When the father of the man she loves insists t...</td>\n",
       "      <td>166</td>\n",
       "    </tr>\n",
       "    <tr>\n",
       "      <th>45</th>\n",
       "      <td>s46</td>\n",
       "      <td>Movie</td>\n",
       "      <td>My Heroes Were Cowboys</td>\n",
       "      <td>Tyler Greco</td>\n",
       "      <td>NaN</td>\n",
       "      <td>NaN</td>\n",
       "      <td>September 16, 2021</td>\n",
       "      <td>2021</td>\n",
       "      <td>PG</td>\n",
       "      <td>23 min</td>\n",
       "      <td>Documentaries</td>\n",
       "      <td>Robin Wiltshire's painful childhood was rescue...</td>\n",
       "      <td>23</td>\n",
       "    </tr>\n",
       "    <tr>\n",
       "      <th>71</th>\n",
       "      <td>s72</td>\n",
       "      <td>Movie</td>\n",
       "      <td>A StoryBots Space Adventure</td>\n",
       "      <td>David A. Vargas</td>\n",
       "      <td>Evan Spiridellis, Erin Fitzgerald, Jeff Gill, ...</td>\n",
       "      <td>NaN</td>\n",
       "      <td>September 14, 2021</td>\n",
       "      <td>2021</td>\n",
       "      <td>TV-Y</td>\n",
       "      <td>13 min</td>\n",
       "      <td>Children &amp; Family Movies</td>\n",
       "      <td>Join the StoryBots and the space travelers of ...</td>\n",
       "      <td>13</td>\n",
       "    </tr>\n",
       "  </tbody>\n",
       "</table>\n",
       "</div>"
      ],
      "text/plain": [
       "   show_id   type                                         title  \\\n",
       "22     s23  Movie                               Avvai Shanmughi   \n",
       "23     s24  Movie  Go! Go! Cory Carson: Chrissy Takes the Wheel   \n",
       "24     s25  Movie                                         Jeans   \n",
       "45     s46  Movie                        My Heroes Were Cowboys   \n",
       "71     s72  Movie                   A StoryBots Space Adventure   \n",
       "\n",
       "                   director  \\\n",
       "22           K.S. Ravikumar   \n",
       "23  Alex Woo, Stanley Moore   \n",
       "24               S. Shankar   \n",
       "45              Tyler Greco   \n",
       "71          David A. Vargas   \n",
       "\n",
       "                                                 cast country  \\\n",
       "22  Kamal Hassan, Meena, Gemini Ganesan, Heera Raj...     NaN   \n",
       "23  Maisie Benson, Paul Killam, Kerry Gudjohnsen, ...     NaN   \n",
       "24  Prashanth, Aishwarya Rai Bachchan, Sri Lakshmi...   India   \n",
       "45                                                NaN     NaN   \n",
       "71  Evan Spiridellis, Erin Fitzgerald, Jeff Gill, ...     NaN   \n",
       "\n",
       "            date_added  release_year rating duration  \\\n",
       "22  September 21, 2021          1996  TV-PG  161 min   \n",
       "23  September 21, 2021          2021   TV-Y   61 min   \n",
       "24  September 21, 2021          1998  TV-14  166 min   \n",
       "45  September 16, 2021          2021     PG   23 min   \n",
       "71  September 14, 2021          2021   TV-Y   13 min   \n",
       "\n",
       "                                          listed_in  \\\n",
       "22                   Comedies, International Movies   \n",
       "23                         Children & Family Movies   \n",
       "24  Comedies, International Movies, Romantic Movies   \n",
       "45                                    Documentaries   \n",
       "71                         Children & Family Movies   \n",
       "\n",
       "                                          description  minute  \n",
       "22  Newly divorced and denied visitation rights wi...     161  \n",
       "23  From arcade games to sled days and hiccup cure...      61  \n",
       "24  When the father of the man she loves insists t...     166  \n",
       "45  Robin Wiltshire's painful childhood was rescue...      23  \n",
       "71  Join the StoryBots and the space travelers of ...      13  "
      ]
     },
     "execution_count": 126,
     "metadata": {},
     "output_type": "execute_result"
    }
   ],
   "source": [
    "# Dealing with outliers\n",
    "df_movie[(df_movie['minute']<64.8) | (df_movie['minute']>157.5)].head()"
   ]
  },
  {
   "cell_type": "markdown",
   "metadata": {},
   "source": [
    "## Using boxplot to identify outliers within numeric data"
   ]
  },
  {
   "cell_type": "code",
   "execution_count": 127,
   "metadata": {},
   "outputs": [
    {
     "data": {
      "image/png": "[encoded data removed]",
      "text/plain": [
       "<Figure size 720x360 with 1 Axes>"
      ]
     },
     "metadata": {
      "needs_background": "light"
     },
     "output_type": "display_data"
    }
   ],
   "source": [
    "# make a boxplot with pandas\n",
    "df_movie['minute'].plot(kind='box', vert=False, color='blue',\n",
    "                        figsize=(10,5))\n",
    "\n",
    "plt.xlabel('Duration (minutes)')\n",
    "plt.show()"
   ]
  },
  {
   "cell_type": "code",
   "execution_count": 128,
   "metadata": {},
   "outputs": [
    {
     "name": "stdout",
     "output_type": "stream",
     "text": [
      "count    6131.000000\n",
      "mean       99.528462\n",
      "std        28.369284\n",
      "min         0.000000\n",
      "25%        87.000000\n",
      "50%        98.000000\n",
      "75%       114.000000\n",
      "max       312.000000\n",
      "Name: minute, dtype: float64\n",
      "46.5\n",
      "154.5\n"
     ]
    }
   ],
   "source": [
    "# overview descriptive statitics\n",
    "# IQR = Q3-Q1\n",
    "min_boxplot = 87 - 1.5*(114 - 87) # Q1 - 1.5*IQR\n",
    "max_boxplot = 114 + 1.5*(114 - 87) # Q3 + 1.5*IQR\n",
    "\n",
    "print(df_movie['minute'].describe())\n",
    "print(min_boxplot)\n",
    "print(max_boxplot)"
   ]
  },
  {
   "cell_type": "code",
   "execution_count": 129,
   "metadata": {},
   "outputs": [
    {
     "data": {
      "text/html": [
       "<div>\n",
       "<style scoped>\n",
       "    .dataframe tbody tr th:only-of-type {\n",
       "        vertical-align: middle;\n",
       "    }\n",
       "\n",
       "    .dataframe tbody tr th {\n",
       "        vertical-align: top;\n",
       "    }\n",
       "\n",
       "    .dataframe thead th {\n",
       "        text-align: right;\n",
       "    }\n",
       "</style>\n",
       "<table border=\"1\" class=\"dataframe\">\n",
       "  <thead>\n",
       "    <tr style=\"text-align: right;\">\n",
       "      <th></th>\n",
       "      <th>show_id</th>\n",
       "      <th>type</th>\n",
       "      <th>title</th>\n",
       "      <th>director</th>\n",
       "      <th>cast</th>\n",
       "      <th>country</th>\n",
       "      <th>date_added</th>\n",
       "      <th>release_year</th>\n",
       "      <th>rating</th>\n",
       "      <th>duration</th>\n",
       "      <th>listed_in</th>\n",
       "      <th>description</th>\n",
       "      <th>minute</th>\n",
       "    </tr>\n",
       "  </thead>\n",
       "  <tbody>\n",
       "    <tr>\n",
       "      <th>22</th>\n",
       "      <td>s23</td>\n",
       "      <td>Movie</td>\n",
       "      <td>Avvai Shanmughi</td>\n",
       "      <td>K.S. Ravikumar</td>\n",
       "      <td>Kamal Hassan, Meena, Gemini Ganesan, Heera Raj...</td>\n",
       "      <td>NaN</td>\n",
       "      <td>September 21, 2021</td>\n",
       "      <td>1996</td>\n",
       "      <td>TV-PG</td>\n",
       "      <td>161 min</td>\n",
       "      <td>Comedies, International Movies</td>\n",
       "      <td>Newly divorced and denied visitation rights wi...</td>\n",
       "      <td>161</td>\n",
       "    </tr>\n",
       "    <tr>\n",
       "      <th>24</th>\n",
       "      <td>s25</td>\n",
       "      <td>Movie</td>\n",
       "      <td>Jeans</td>\n",
       "      <td>S. Shankar</td>\n",
       "      <td>Prashanth, Aishwarya Rai Bachchan, Sri Lakshmi...</td>\n",
       "      <td>India</td>\n",
       "      <td>September 21, 2021</td>\n",
       "      <td>1998</td>\n",
       "      <td>TV-14</td>\n",
       "      <td>166 min</td>\n",
       "      <td>Comedies, International Movies, Romantic Movies</td>\n",
       "      <td>When the father of the man she loves insists t...</td>\n",
       "      <td>166</td>\n",
       "    </tr>\n",
       "    <tr>\n",
       "      <th>45</th>\n",
       "      <td>s46</td>\n",
       "      <td>Movie</td>\n",
       "      <td>My Heroes Were Cowboys</td>\n",
       "      <td>Tyler Greco</td>\n",
       "      <td>NaN</td>\n",
       "      <td>NaN</td>\n",
       "      <td>September 16, 2021</td>\n",
       "      <td>2021</td>\n",
       "      <td>PG</td>\n",
       "      <td>23 min</td>\n",
       "      <td>Documentaries</td>\n",
       "      <td>Robin Wiltshire's painful childhood was rescue...</td>\n",
       "      <td>23</td>\n",
       "    </tr>\n",
       "    <tr>\n",
       "      <th>71</th>\n",
       "      <td>s72</td>\n",
       "      <td>Movie</td>\n",
       "      <td>A StoryBots Space Adventure</td>\n",
       "      <td>David A. Vargas</td>\n",
       "      <td>Evan Spiridellis, Erin Fitzgerald, Jeff Gill, ...</td>\n",
       "      <td>NaN</td>\n",
       "      <td>September 14, 2021</td>\n",
       "      <td>2021</td>\n",
       "      <td>TV-Y</td>\n",
       "      <td>13 min</td>\n",
       "      <td>Children &amp; Family Movies</td>\n",
       "      <td>Join the StoryBots and the space travelers of ...</td>\n",
       "      <td>13</td>\n",
       "    </tr>\n",
       "    <tr>\n",
       "      <th>73</th>\n",
       "      <td>s74</td>\n",
       "      <td>Movie</td>\n",
       "      <td>King of Boys</td>\n",
       "      <td>Kemi Adetiba</td>\n",
       "      <td>Sola Sobowale, Adesua Etomi, Remilekun \"Remini...</td>\n",
       "      <td>Nigeria</td>\n",
       "      <td>September 14, 2021</td>\n",
       "      <td>2018</td>\n",
       "      <td>TV-MA</td>\n",
       "      <td>182 min</td>\n",
       "      <td>Dramas, International Movies</td>\n",
       "      <td>When a powerful businesswoman’s political ambi...</td>\n",
       "      <td>182</td>\n",
       "    </tr>\n",
       "    <tr>\n",
       "      <th>...</th>\n",
       "      <td>...</td>\n",
       "      <td>...</td>\n",
       "      <td>...</td>\n",
       "      <td>...</td>\n",
       "      <td>...</td>\n",
       "      <td>...</td>\n",
       "      <td>...</td>\n",
       "      <td>...</td>\n",
       "      <td>...</td>\n",
       "      <td>...</td>\n",
       "      <td>...</td>\n",
       "      <td>...</td>\n",
       "      <td>...</td>\n",
       "    </tr>\n",
       "    <tr>\n",
       "      <th>8763</th>\n",
       "      <td>s8764</td>\n",
       "      <td>Movie</td>\n",
       "      <td>WWII: Report from the Aleutians</td>\n",
       "      <td>John Huston</td>\n",
       "      <td>NaN</td>\n",
       "      <td>United States</td>\n",
       "      <td>March 31, 2017</td>\n",
       "      <td>1943</td>\n",
       "      <td>TV-PG</td>\n",
       "      <td>45 min</td>\n",
       "      <td>Documentaries</td>\n",
       "      <td>Filmmaker John Huston narrates this Oscar-nomi...</td>\n",
       "      <td>45</td>\n",
       "    </tr>\n",
       "    <tr>\n",
       "      <th>8764</th>\n",
       "      <td>s8765</td>\n",
       "      <td>Movie</td>\n",
       "      <td>Wyatt Earp</td>\n",
       "      <td>Lawrence Kasdan</td>\n",
       "      <td>Kevin Costner, Dennis Quaid, Gene Hackman, Dav...</td>\n",
       "      <td>United States</td>\n",
       "      <td>January 1, 2020</td>\n",
       "      <td>1994</td>\n",
       "      <td>PG-13</td>\n",
       "      <td>191 min</td>\n",
       "      <td>Action &amp; Adventure</td>\n",
       "      <td>Legendary lawman Wyatt Earp is continually at ...</td>\n",
       "      <td>191</td>\n",
       "    </tr>\n",
       "    <tr>\n",
       "      <th>8770</th>\n",
       "      <td>s8771</td>\n",
       "      <td>Movie</td>\n",
       "      <td>Yaadein</td>\n",
       "      <td>Subhash Ghai</td>\n",
       "      <td>Jackie Shroff, Hrithik Roshan, Kareena Kapoor,...</td>\n",
       "      <td>India</td>\n",
       "      <td>March 1, 2018</td>\n",
       "      <td>2001</td>\n",
       "      <td>TV-14</td>\n",
       "      <td>171 min</td>\n",
       "      <td>Dramas, International Movies, Romantic Movies</td>\n",
       "      <td>Two young lovers set out to overcome the obsta...</td>\n",
       "      <td>171</td>\n",
       "    </tr>\n",
       "    <tr>\n",
       "      <th>8788</th>\n",
       "      <td>s8789</td>\n",
       "      <td>Movie</td>\n",
       "      <td>You Carry Me</td>\n",
       "      <td>Ivona Juka</td>\n",
       "      <td>Lana Baric, Vojislav Brajovic, Natasa Janjic, ...</td>\n",
       "      <td>Croatia, Slovenia, Serbia, Montenegro</td>\n",
       "      <td>July 1, 2016</td>\n",
       "      <td>2015</td>\n",
       "      <td>TV-MA</td>\n",
       "      <td>157 min</td>\n",
       "      <td>Dramas, International Movies</td>\n",
       "      <td>A soap opera producer, director and makeup art...</td>\n",
       "      <td>157</td>\n",
       "    </tr>\n",
       "    <tr>\n",
       "      <th>8802</th>\n",
       "      <td>s8803</td>\n",
       "      <td>Movie</td>\n",
       "      <td>Zodiac</td>\n",
       "      <td>David Fincher</td>\n",
       "      <td>Mark Ruffalo, Jake Gyllenhaal, Robert Downey J...</td>\n",
       "      <td>United States</td>\n",
       "      <td>November 20, 2019</td>\n",
       "      <td>2007</td>\n",
       "      <td>R</td>\n",
       "      <td>158 min</td>\n",
       "      <td>Cult Movies, Dramas, Thrillers</td>\n",
       "      <td>A political cartoonist, a crime reporter and a...</td>\n",
       "      <td>158</td>\n",
       "    </tr>\n",
       "  </tbody>\n",
       "</table>\n",
       "<p>453 rows × 13 columns</p>\n",
       "</div>"
      ],
      "text/plain": [
       "     show_id   type                            title         director  \\\n",
       "22       s23  Movie                  Avvai Shanmughi   K.S. Ravikumar   \n",
       "24       s25  Movie                            Jeans       S. Shankar   \n",
       "45       s46  Movie           My Heroes Were Cowboys      Tyler Greco   \n",
       "71       s72  Movie      A StoryBots Space Adventure  David A. Vargas   \n",
       "73       s74  Movie                     King of Boys     Kemi Adetiba   \n",
       "...      ...    ...                              ...              ...   \n",
       "8763   s8764  Movie  WWII: Report from the Aleutians      John Huston   \n",
       "8764   s8765  Movie                       Wyatt Earp  Lawrence Kasdan   \n",
       "8770   s8771  Movie                          Yaadein     Subhash Ghai   \n",
       "8788   s8789  Movie                     You Carry Me       Ivona Juka   \n",
       "8802   s8803  Movie                           Zodiac    David Fincher   \n",
       "\n",
       "                                                   cast  \\\n",
       "22    Kamal Hassan, Meena, Gemini Ganesan, Heera Raj...   \n",
       "24    Prashanth, Aishwarya Rai Bachchan, Sri Lakshmi...   \n",
       "45                                                  NaN   \n",
       "71    Evan Spiridellis, Erin Fitzgerald, Jeff Gill, ...   \n",
       "73    Sola Sobowale, Adesua Etomi, Remilekun \"Remini...   \n",
       "...                                                 ...   \n",
       "8763                                                NaN   \n",
       "8764  Kevin Costner, Dennis Quaid, Gene Hackman, Dav...   \n",
       "8770  Jackie Shroff, Hrithik Roshan, Kareena Kapoor,...   \n",
       "8788  Lana Baric, Vojislav Brajovic, Natasa Janjic, ...   \n",
       "8802  Mark Ruffalo, Jake Gyllenhaal, Robert Downey J...   \n",
       "\n",
       "                                    country          date_added  release_year  \\\n",
       "22                                      NaN  September 21, 2021          1996   \n",
       "24                                    India  September 21, 2021          1998   \n",
       "45                                      NaN  September 16, 2021          2021   \n",
       "71                                      NaN  September 14, 2021          2021   \n",
       "73                                  Nigeria  September 14, 2021          2018   \n",
       "...                                     ...                 ...           ...   \n",
       "8763                          United States      March 31, 2017          1943   \n",
       "8764                          United States     January 1, 2020          1994   \n",
       "8770                                  India       March 1, 2018          2001   \n",
       "8788  Croatia, Slovenia, Serbia, Montenegro        July 1, 2016          2015   \n",
       "8802                          United States   November 20, 2019          2007   \n",
       "\n",
       "     rating duration                                        listed_in  \\\n",
       "22    TV-PG  161 min                   Comedies, International Movies   \n",
       "24    TV-14  166 min  Comedies, International Movies, Romantic Movies   \n",
       "45       PG   23 min                                    Documentaries   \n",
       "71     TV-Y   13 min                         Children & Family Movies   \n",
       "73    TV-MA  182 min                     Dramas, International Movies   \n",
       "...     ...      ...                                              ...   \n",
       "8763  TV-PG   45 min                                    Documentaries   \n",
       "8764  PG-13  191 min                               Action & Adventure   \n",
       "8770  TV-14  171 min    Dramas, International Movies, Romantic Movies   \n",
       "8788  TV-MA  157 min                     Dramas, International Movies   \n",
       "8802      R  158 min                   Cult Movies, Dramas, Thrillers   \n",
       "\n",
       "                                            description  minute  \n",
       "22    Newly divorced and denied visitation rights wi...     161  \n",
       "24    When the father of the man she loves insists t...     166  \n",
       "45    Robin Wiltshire's painful childhood was rescue...      23  \n",
       "71    Join the StoryBots and the space travelers of ...      13  \n",
       "73    When a powerful businesswoman’s political ambi...     182  \n",
       "...                                                 ...     ...  \n",
       "8763  Filmmaker John Huston narrates this Oscar-nomi...      45  \n",
       "8764  Legendary lawman Wyatt Earp is continually at ...     191  \n",
       "8770  Two young lovers set out to overcome the obsta...     171  \n",
       "8788  A soap opera producer, director and makeup art...     157  \n",
       "8802  A political cartoonist, a crime reporter and a...     158  \n",
       "\n",
       "[453 rows x 13 columns]"
      ]
     },
     "execution_count": 129,
     "metadata": {},
     "output_type": "execute_result"
    }
   ],
   "source": [
    "# Dealing with Outliers\n",
    "df_movie[(df_movie['minute']<46.5) | (df_movie['minute']>154.5)]"
   ]
  },
  {
   "cell_type": "markdown",
   "metadata": {},
   "source": [
    "## Using bars to identify outliers within categorical data"
   ]
  },
  {
   "cell_type": "code",
   "execution_count": 132,
   "metadata": {},
   "outputs": [
    {
     "data": {
      "text/plain": [
       "<AxesSubplot:>"
      ]
     },
     "execution_count": 132,
     "metadata": {},
     "output_type": "execute_result"
    },
    {
     "data": {
      "image/png": "[encoded data removed]",
      "text/plain": [
       "<Figure size 720x360 with 1 Axes>"
      ]
     },
     "metadata": {
      "needs_background": "light"
     },
     "output_type": "display_data"
    }
   ],
   "source": [
    "# make barplot with pandas\n",
    "df_movie['rating'].value_counts().plot(kind='bar', figsize=(10,5))"
   ]
  },
  {
   "cell_type": "markdown",
   "metadata": {},
   "source": [
    "# Text Normalization"
   ]
  },
  {
   "cell_type": "markdown",
   "metadata": {},
   "source": [
    "## Dealing with inconsistent capitalization: lower(), upper(), title()"
   ]
  },
  {
   "cell_type": "code",
   "execution_count": 140,
   "metadata": {},
   "outputs": [
    {
     "data": {
      "text/plain": [
       "0                   dick johnson is dead\n",
       "6       my little pony: a new generation\n",
       "7                                sankofa\n",
       "9                           the starling\n",
       "12                          je suis karl\n",
       "                      ...               \n",
       "8801                             zinzana\n",
       "8802                              zodiac\n",
       "8804                          zombieland\n",
       "8805                                zoom\n",
       "8806                              zubaan\n",
       "Name: title, Length: 6131, dtype: object"
      ]
     },
     "execution_count": 140,
     "metadata": {},
     "output_type": "execute_result"
    }
   ],
   "source": [
    "# change the case of text with the str attribute\n",
    "df_movie['title'].str.lower()\n",
    "df_movie['title'].str.upper()\n",
    "df_movie['title'].str.title()\n",
    "\n",
    "# update values\n",
    "df_movie['title'] = df_movie['title'].str.upper()\n",
    "\n",
    "# change the case of text with the apply method\n",
    "df_movie['title'].apply(lambda x:x.lower())"
   ]
  },
  {
   "cell_type": "markdown",
   "metadata": {},
   "source": [
    "## Remove blank spaces with strip(), lstrip(), and rstrip()"
   ]
  },
  {
   "cell_type": "code",
   "execution_count": 157,
   "metadata": {},
   "outputs": [
    {
     "name": "stdout",
     "output_type": "stream",
     "text": [
      "Titanic    \n",
      " Titanic\n",
      "Titanic\n"
     ]
    }
   ],
   "source": [
    "# how the strip method workds\n",
    "movie_title = \" Titanic    \"\n",
    "\n",
    "# trim leading space with lstrip()\n",
    "print(movie_title.lstrip())\n",
    "# trim trailing space with rstrip()\n",
    "print(movie_title.rstrip())\n",
    "# trim leading and trailing space with strip()\n",
    "print(movie_title.strip())"
   ]
  },
  {
   "cell_type": "code",
   "execution_count": 143,
   "metadata": {},
   "outputs": [
    {
     "data": {
      "text/plain": [
       "0                   DICK JOHNSON IS DEAD\n",
       "6       MY LITTLE PONY: A NEW GENERATION\n",
       "7                                SANKOFA\n",
       "9                           THE STARLING\n",
       "12                          JE SUIS KARL\n",
       "                      ...               \n",
       "8801                             ZINZANA\n",
       "8802                              ZODIAC\n",
       "8804                          ZOMBIELAND\n",
       "8805                                ZOOM\n",
       "8806                              ZUBAAN\n",
       "Name: title, Length: 6131, dtype: object"
      ]
     },
     "execution_count": 143,
     "metadata": {},
     "output_type": "execute_result"
    }
   ],
   "source": [
    "# get rid of leading and trailing white spaces with the strip() method\n",
    "df_movie['title'] = df_movie['title'].str.strip()\n",
    "\n",
    "# get rid of leading and trailing white spaces with the apply method\n",
    "df_movie['title'].apply(lambda x:x.strip())"
   ]
  },
  {
   "cell_type": "markdown",
   "metadata": {},
   "source": [
    "## Replace strings with replace() or sub()"
   ]
  },
  {
   "cell_type": "code",
   "execution_count": 175,
   "metadata": {},
   "outputs": [
    {
     "data": {
      "text/plain": [
       "0                  DICK JOHNSON IS DEAD\n",
       "6       MY LITTLE PONY A NEW GENERATION\n",
       "7                               SANKOFA\n",
       "9                          THE STARLING\n",
       "12                         JE SUIS KARL\n",
       "                     ...               \n",
       "8801                            ZINZANA\n",
       "8802                             ZODIAC\n",
       "8804                         ZOMBIELAND\n",
       "8805                               ZOOM\n",
       "8806                             ZUBAAN\n",
       "Name: title, Length: 6131, dtype: object"
      ]
     },
     "execution_count": 175,
     "metadata": {},
     "output_type": "execute_result"
    }
   ],
   "source": [
    "# remove punctuation signs with the str.replace() method and regex\n",
    "df_movie['title'].str.replace('[^\\w\\s]', '', regex=True)\n",
    "\n",
    "# remove punctuation signs with the replace() method and regex\n",
    "df_movie['title'].replace('[^\\w\\s]', '', regex=True)\n",
    "\n",
    "# difference between str.replace() and replace()\n",
    "# str.replace(): perform string or regex substitution on string data.\n",
    "# replace():  can replace any type of data\n",
    "\n",
    "# df_movie['title'].replace(1, 2, regex=True)\n",
    "# df_movie['title'].str.replace(1, 2, regex=True)\n",
    "\n",
    "# remove punctuation signs with the re.sub() function via teh apply method\n",
    "# import re\n",
    "# df_movie['title'].apply(lambda x:re.sub('[^\\w\\s]','',x))"
   ]
  }
 ],
 "metadata": {
  "kernelspec": {
   "display_name": "Python 3",
   "language": "python",
   "name": "python3"
  },
  "language_info": {
   "codemirror_mode": {
    "name": "ipython",
    "version": 3
   },
   "file_extension": ".py",
   "mimetype": "text/x-python",
   "name": "python",
   "nbconvert_exporter": "python",
   "pygments_lexer": "ipython3",
   "version": "3.8.8"
  },
  "toc": {
   "base_numbering": 1,
   "nav_menu": {},
   "number_sections": true,
   "sideBar": true,
   "skip_h1_title": false,
   "title_cell": "Table of Contents",
   "title_sidebar": "Contents",
   "toc_cell": false,
   "toc_position": {},
   "toc_section_display": true,
   "toc_window_display": false
  }
 },
 "nbformat": 4,
 "nbformat_minor": 4
}
