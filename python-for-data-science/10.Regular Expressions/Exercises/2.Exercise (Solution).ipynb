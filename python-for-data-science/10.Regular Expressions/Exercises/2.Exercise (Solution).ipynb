{
 "cells": [
  {
   "cell_type": "markdown",
   "id": "70702cd6",
   "metadata": {},
   "source": [
    "# Exercises"
   ]
  },
  {
   "cell_type": "code",
   "execution_count": 1,
   "id": "e14f903a",
   "metadata": {},
   "outputs": [],
   "source": [
    "import re"
   ]
  },
  {
   "cell_type": "code",
   "execution_count": 2,
   "id": "ff7b8da9",
   "metadata": {},
   "outputs": [
    {
     "data": {
      "text/plain": [
       "['.',\n",
       " '!',\n",
       " '!',\n",
       " '!',\n",
       " '!',\n",
       " '!',\n",
       " '-',\n",
       " '-',\n",
       " '-',\n",
       " '-',\n",
       " '-',\n",
       " '-',\n",
       " '-',\n",
       " '-',\n",
       " '-',\n",
       " '-']"
      ]
     },
     "execution_count": 2,
     "metadata": {},
     "output_type": "execute_result"
    }
   ],
   "source": [
    "# Match only punctuation\n",
    "text = \"\"\"Hello World.\n",
    "I love Python!!!!!\n",
    "My first lucky number is 987-654-321\n",
    "My second lucky number is 876-543-210\n",
    "My third lucky number is 765-432-100\n",
    "My fourth lucky number is 123-456-123-123-456\n",
    "\"\"\"\n",
    "re.findall(r'[^\\w\\s]', text)"
   ]
  },
  {
   "cell_type": "code",
   "execution_count": 3,
   "id": "3413fa0b",
   "metadata": {},
   "outputs": [
    {
     "data": {
      "text/plain": [
       "['13-04-2021']"
      ]
     },
     "execution_count": 3,
     "metadata": {},
     "output_type": "execute_result"
    }
   ],
   "source": [
    "# Match right date format (MM-DD-YYYY)\n",
    "text = '''\n",
    "13-04-2021\n",
    "2021-13-04\n",
    "2021-04-13\n",
    "'''\n",
    "re.findall(r'\\d{2}-\\d{2}-\\d{4}', text)"
   ]
  },
  {
   "cell_type": "code",
   "execution_count": 4,
   "id": "68fdae8a",
   "metadata": {},
   "outputs": [
    {
     "data": {
      "text/plain": [
       "['username10']"
      ]
     },
     "execution_count": 4,
     "metadata": {},
     "output_type": "execute_result"
    }
   ],
   "source": [
    "# Match right username format (4-14 characters and only letters or digits)\n",
    "text = '''\n",
    "username10\n",
    "abc\n",
    "10\n",
    "'''\n",
    "re.findall(r'[a-zA-Z0-9]{4,14}', text)"
   ]
  }
 ],
 "metadata": {
  "kernelspec": {
   "display_name": "Python 3",
   "language": "python",
   "name": "python3"
  },
  "language_info": {
   "codemirror_mode": {
    "name": "ipython",
    "version": 3
   },
   "file_extension": ".py",
   "mimetype": "text/x-python",
   "name": "python",
   "nbconvert_exporter": "python",
   "pygments_lexer": "ipython3",
   "version": "3.8.8"
  },
  "toc": {
   "base_numbering": 1,
   "nav_menu": {},
   "number_sections": true,
   "sideBar": true,
   "skip_h1_title": false,
   "title_cell": "Table of Contents",
   "title_sidebar": "Contents",
   "toc_cell": false,
   "toc_position": {},
   "toc_section_display": true,
   "toc_window_display": false
  }
 },
 "nbformat": 4,
 "nbformat_minor": 5
}
