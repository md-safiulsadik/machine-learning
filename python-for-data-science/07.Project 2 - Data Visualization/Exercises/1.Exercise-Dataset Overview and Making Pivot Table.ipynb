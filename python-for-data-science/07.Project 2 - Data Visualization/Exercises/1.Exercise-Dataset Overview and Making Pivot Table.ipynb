{
 "cells": [
  {
   "cell_type": "code",
   "execution_count": null,
   "id": "270bafb9",
   "metadata": {},
   "outputs": [],
   "source": [
    "import pandas as pd"
   ]
  },
  {
   "cell_type": "code",
   "execution_count": null,
   "id": "47fc4e0d",
   "metadata": {},
   "outputs": [],
   "source": [
    "# reading the csv file\n",
    "df_population_raw = pd.read_csv('population_total.csv')"
   ]
  },
  {
   "cell_type": "code",
   "execution_count": null,
   "id": "d44cbeb9",
   "metadata": {
    "scrolled": false
   },
   "outputs": [],
   "source": [
    "# first look at the dataset\n"
   ]
  },
  {
   "cell_type": "markdown",
   "id": "ec86a50f",
   "metadata": {},
   "source": [
    "# Making a Pivot Table"
   ]
  },
  {
   "cell_type": "markdown",
   "id": "1450c112",
   "metadata": {},
   "source": [
    "Task: In this exercise, we're going to reshape the population_total dataset, so we get the countries in the column names and the years in the index. This will helps us later when making visualizations."
   ]
  },
  {
   "cell_type": "code",
   "execution_count": null,
   "id": "4d01f725",
   "metadata": {},
   "outputs": [],
   "source": [
    "# drop null values\n",
    "df_population_raw.dropna(inplace=True)"
   ]
  },
  {
   "cell_type": "code",
   "execution_count": null,
   "id": "aeb60686",
   "metadata": {},
   "outputs": [],
   "source": [
    "# make a pivot table with .pivot() method (countries in the column names and the years in the index)\n"
   ]
  },
  {
   "cell_type": "code",
   "execution_count": null,
   "id": "918dc0db",
   "metadata": {},
   "outputs": [],
   "source": [
    "# select only the countries 'United States', 'India', 'China', 'Indonesia', 'Brazil' and update the dataframe\n"
   ]
  },
  {
   "cell_type": "code",
   "execution_count": null,
   "id": "d8c76de7",
   "metadata": {
    "scrolled": false
   },
   "outputs": [],
   "source": [
    "# show pivot table\n"
   ]
  }
 ],
 "metadata": {
  "kernelspec": {
   "display_name": "Python 3",
   "language": "python",
   "name": "python3"
  },
  "language_info": {
   "codemirror_mode": {
    "name": "ipython",
    "version": 3
   },
   "file_extension": ".py",
   "mimetype": "text/x-python",
   "name": "python",
   "nbconvert_exporter": "python",
   "pygments_lexer": "ipython3",
   "version": "3.8.8"
  },
  "toc": {
   "base_numbering": 1,
   "nav_menu": {},
   "number_sections": true,
   "sideBar": true,
   "skip_h1_title": false,
   "title_cell": "Table of Contents",
   "title_sidebar": "Contents",
   "toc_cell": false,
   "toc_position": {},
   "toc_section_display": true,
   "toc_window_display": false
  }
 },
 "nbformat": 4,
 "nbformat_minor": 5
}
