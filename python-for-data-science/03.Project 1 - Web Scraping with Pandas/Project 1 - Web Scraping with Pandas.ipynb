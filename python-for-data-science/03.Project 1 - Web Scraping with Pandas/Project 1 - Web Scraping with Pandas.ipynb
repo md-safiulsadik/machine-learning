{
 "cells": [
  {
   "cell_type": "code",
   "execution_count": null,
   "id": "9bcec48b",
   "metadata": {},
   "outputs": [],
   "source": [
    "import pandas as pd"
   ]
  },
  {
   "cell_type": "markdown",
   "id": "b8784766",
   "metadata": {},
   "source": [
    "# Read a .csv from a URL with Pandas"
   ]
  },
  {
   "cell_type": "markdown",
   "id": "1e116955",
   "metadata": {},
   "source": [
    "Target website: https://www.football-data.co.uk/data.php"
   ]
  },
  {
   "cell_type": "code",
   "execution_count": null,
   "id": "62ad1716",
   "metadata": {},
   "outputs": [],
   "source": [
    "# reading 1 csv file from the website\n",
    "df_premier21 = pd.read_csv('https://www.football-data.co.uk/mmz4281/2425/E0.csv')"
   ]
  },
  {
   "cell_type": "code",
   "execution_count": null,
   "id": "e0b6be7b",
   "metadata": {},
   "outputs": [],
   "source": [
    "# showing dataframe\n",
    "df_premier21"
   ]
  },
  {
   "cell_type": "code",
   "execution_count": null,
   "id": "f9bcd9f5",
   "metadata": {},
   "outputs": [],
   "source": [
    "# rename columns\n",
    "df_premier21 = df_premier21.rename(columns={'Date':'date',\n",
    "                                            'HomeTeam':'home_team',\n",
    "                                            'AwayTeam':'away_team',\n",
    "                                            'FTHG': 'home_goals',\n",
    "                                            'FTAG': 'away_goals'})"
   ]
  },
  {
   "cell_type": "code",
   "execution_count": null,
   "id": "a650ca82",
   "metadata": {},
   "outputs": [],
   "source": [
    "# show dataframe\n",
    "df_premier21"
   ]
  },
  {
   "cell_type": "markdown",
   "id": "4932246c",
   "metadata": {},
   "source": [
    "# Read .csv from Multiple URLs with Pandas"
   ]
  },
  {
   "cell_type": "markdown",
   "id": "9f847dee",
   "metadata": {},
   "source": [
    "https://www.football-data.co.uk/mmz4281/2122/E0.csv"
   ]
  },
  {
   "cell_type": "markdown",
   "id": "8debb34a",
   "metadata": {},
   "source": [
    "<b> Link: root + season + league </b>"
   ]
  },
  {
   "cell_type": "code",
   "execution_count": null,
   "id": "c3fb8194",
   "metadata": {},
   "outputs": [],
   "source": [
    "# link structure\n",
    "\"https://www.football-data.co.uk/mmz4281/\" + \"2122\" + \"/\" + \"E0\" + \".csv\""
   ]
  },
  {
   "cell_type": "code",
   "execution_count": null,
   "id": "3bbbe2a0",
   "metadata": {},
   "outputs": [],
   "source": [
    "# create a root variable\n",
    "root = \"https://www.football-data.co.uk/mmz4281/\""
   ]
  },
  {
   "cell_type": "markdown",
   "id": "02198901",
   "metadata": {},
   "source": [
    "## Multiple leagues"
   ]
  },
  {
   "cell_type": "markdown",
   "id": "1bd2a910",
   "metadata": {},
   "source": [
    "- https://www.football-data.co.uk/mmz4281/2122/E0.csv\n",
    "- https://www.football-data.co.uk/mmz4281/2122/E1.csv\n",
    "- https://www.football-data.co.uk/mmz4281/2122/E2.csv\n",
    "- https://www.football-data.co.uk/mmz4281/2122/E3.csv\n",
    "- https://www.football-data.co.uk/mmz4281/2122/EC.csv"
   ]
  },
  {
   "cell_type": "code",
   "execution_count": null,
   "id": "c823a64d",
   "metadata": {},
   "outputs": [],
   "source": [
    "# creating list of leagues\n",
    "leagues = ['E0','E2', 'E3']\n",
    "\n",
    "frames = []\n",
    "# looping through leagues, read multiple csv and append it into a list\n",
    "for league in leagues:\n",
    "    df = pd.read_csv(root + \"2122\" + \"/\"  + league + \".csv\")\n",
    "    frames.append(df)"
   ]
  },
  {
   "cell_type": "code",
   "execution_count": null,
   "id": "f3fb6380",
   "metadata": {},
   "outputs": [],
   "source": [
    "# length of frames\n",
    "len(frames)"
   ]
  },
  {
   "cell_type": "code",
   "execution_count": null,
   "id": "49da727d",
   "metadata": {
    "scrolled": true
   },
   "outputs": [],
   "source": [
    "# show 1st, 2nd and 3rd element\n",
    "frames[2].head(3)"
   ]
  },
  {
   "cell_type": "markdown",
   "id": "64ca8b5c",
   "metadata": {},
   "source": [
    "## Multiple Seasons"
   ]
  },
  {
   "cell_type": "code",
   "execution_count": null,
   "id": "ec09a13f",
   "metadata": {},
   "outputs": [],
   "source": [
    "leagues = ['E0','E2', 'E3']\n",
    "\n",
    "frames = []\n",
    "\n",
    "# loop through range of seasons and insert new column\n",
    "for league in leagues:\n",
    "    for season in range(15,21): # range of seasons\n",
    "        df = pd.read_csv(root + str(season) + str(season+1) + \"/\" + league + \".csv\")\n",
    "#         df['season'] = season\n",
    "        df.insert(1, 'season', season)\n",
    "        frames.append(df)"
   ]
  },
  {
   "cell_type": "code",
   "execution_count": null,
   "id": "8a33b91b",
   "metadata": {
    "scrolled": true
   },
   "outputs": [],
   "source": [
    "# total frames (6 seasons x 3 leagues)\n",
    "len(frames)"
   ]
  },
  {
   "cell_type": "code",
   "execution_count": null,
   "id": "9c1a7d33",
   "metadata": {},
   "outputs": [],
   "source": [
    "# show 1st, and last element (new season column was created)\n",
    "frames[17]"
   ]
  },
  {
   "cell_type": "markdown",
   "id": "e4232c9d",
   "metadata": {},
   "source": [
    "# Organize All The Data in a Dictionary"
   ]
  },
  {
   "cell_type": "code",
   "execution_count": null,
   "id": "f769829e",
   "metadata": {},
   "outputs": [],
   "source": [
    "# create a dictionary with original name of league as key\n",
    "dict_countries = {\n",
    "              'Spanish La Liga':'SP1', 'Spanish Segunda Division':'SP2',\n",
    "              'German Bundesliga':'D1', \n",
    "              'English Premier League':'E0', 'English League 1':'E2', 'English League 2':'E3',\n",
    "             }"
   ]
  },
  {
   "cell_type": "code",
   "execution_count": null,
   "id": "5e70f471",
   "metadata": {},
   "outputs": [],
   "source": [
    "# get a dictionary element\n",
    "dict_countries['German Bundesliga']"
   ]
  },
  {
   "cell_type": "code",
   "execution_count": null,
   "id": "2a74837b",
   "metadata": {},
   "outputs": [],
   "source": [
    "dict_historical_data = {} \n",
    "\n",
    "# looping through key elements\n",
    "for league in dict_countries:\n",
    "    frames = [] # one dataframe per league\n",
    "    for season in range(15, 21):\n",
    "        df = pd.read_csv(root + str(season) + str(season+1) + \"/\" + dict_countries[league]+ \".csv\")\n",
    "        df.insert(1, 'season', season)\n",
    "        frames.append(df)\n",
    "    df_frames = pd.concat(frames) # storing all seasons of a league in a single dataframe\n",
    "    dict_historical_data[league] = df_frames # assigning dataframe to a new dictionary"
   ]
  },
  {
   "cell_type": "code",
   "execution_count": null,
   "id": "e172f29a",
   "metadata": {},
   "outputs": [],
   "source": [
    "# show dataframe inside dict_historical_data\n",
    "dict_historical_data['Spanish La Liga']"
   ]
  }
 ],
 "metadata": {
  "kernelspec": {
   "display_name": "base",
   "language": "python",
   "name": "python3"
  },
  "language_info": {
   "codemirror_mode": {
    "name": "ipython",
    "version": 3
   },
   "file_extension": ".py",
   "mimetype": "text/x-python",
   "name": "python",
   "nbconvert_exporter": "python",
   "pygments_lexer": "ipython3",
   "version": "3.12.7"
  },
  "toc": {
   "base_numbering": 1,
   "nav_menu": {},
   "number_sections": true,
   "sideBar": true,
   "skip_h1_title": false,
   "title_cell": "Table of Contents",
   "title_sidebar": "Contents",
   "toc_cell": false,
   "toc_position": {},
   "toc_section_display": true,
   "toc_window_display": false
  }
 },
 "nbformat": 4,
 "nbformat_minor": 5
}
