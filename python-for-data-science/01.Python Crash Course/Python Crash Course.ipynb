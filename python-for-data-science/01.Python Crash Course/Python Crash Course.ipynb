{
 "cells": [
  {
   "cell_type": "markdown",
   "id": "8f17dd92",
   "metadata": {},
   "source": [
    "# Hello World"
   ]
  },
  {
   "cell_type": "markdown",
   "id": "38478ce0",
   "metadata": {},
   "source": [
    "One of the typical ways to get started with a programming language is printing a simple message. You can write any message, but it's traditional among coders to start with a \"Hello World,\" so let's try it."
   ]
  },
  {
   "cell_type": "markdown",
   "id": "ad8d4e3a",
   "metadata": {},
   "source": [
    "Let's print our first message using the print function. The print function prints a message to the screen."
   ]
  },
  {
   "cell_type": "code",
   "execution_count": 7,
   "id": "3ba6128c",
   "metadata": {},
   "outputs": [
    {
     "name": "stdout",
     "output_type": "stream",
     "text": [
      "Hello World\n"
     ]
    }
   ],
   "source": [
    "print(\"Hello World\")"
   ]
  },
  {
   "cell_type": "markdown",
   "id": "8f1c99f6",
   "metadata": {},
   "source": [
    "Unlike most Python text editors, Jupyter Notebook allows us to print the last object in code cell without specifying the print function."
   ]
  },
  {
   "cell_type": "code",
   "execution_count": 8,
   "id": "80018e1d",
   "metadata": {
    "scrolled": false
   },
   "outputs": [
    {
     "data": {
      "text/plain": [
       "'Hello World'"
      ]
     },
     "execution_count": 8,
     "metadata": {},
     "output_type": "execute_result"
    }
   ],
   "source": [
    "\"Hello World\""
   ]
  },
  {
   "cell_type": "markdown",
   "id": "71060ab1",
   "metadata": {},
   "source": [
    "# Data Types"
   ]
  },
  {
   "cell_type": "markdown",
   "id": "129cb49a",
   "metadata": {},
   "source": [
    "Every value in Python is an object. An object has different data types. Let's see the most common data type in Python."
   ]
  },
  {
   "cell_type": "markdown",
   "id": "130aa203",
   "metadata": {},
   "source": [
    "## Integer and Float"
   ]
  },
  {
   "cell_type": "markdown",
   "id": "b8ecb817",
   "metadata": {},
   "source": [
    "Integer (int): Numbers that can be written without a fractional component."
   ]
  },
  {
   "cell_type": "code",
   "execution_count": 9,
   "id": "246aa088",
   "metadata": {},
   "outputs": [
    {
     "data": {
      "text/plain": [
       "int"
      ]
     },
     "execution_count": 9,
     "metadata": {},
     "output_type": "execute_result"
    }
   ],
   "source": [
    "# To check the data type, we can use the type function.\n",
    "type(1)"
   ]
  },
  {
   "cell_type": "markdown",
   "id": "5f8ab750",
   "metadata": {},
   "source": [
    "Float (float): Numbers that contain floating decimal points."
   ]
  },
  {
   "cell_type": "code",
   "execution_count": 10,
   "id": "1efdac18",
   "metadata": {
    "scrolled": false
   },
   "outputs": [
    {
     "data": {
      "text/plain": [
       "float"
      ]
     },
     "execution_count": 10,
     "metadata": {},
     "output_type": "execute_result"
    }
   ],
   "source": [
    "type(2.3)"
   ]
  },
  {
   "cell_type": "markdown",
   "id": "71ced1ad",
   "metadata": {},
   "source": [
    "### Math Operators"
   ]
  },
  {
   "cell_type": "markdown",
   "id": "db6b47c2",
   "metadata": {},
   "source": [
    "Just like on Excel, you can perform math operations in Python. Let's see the most common operators used in Python"
   ]
  },
  {
   "cell_type": "markdown",
   "id": "e110146a",
   "metadata": {},
   "source": [
    "- Addition: +\n",
    "- Subtraction: -\n",
    "- Multiplication: *\n",
    "- Division: /\n",
    "- Exponent: **\n",
    "- Remainder: %\n",
    "- Integer division: //"
   ]
  },
  {
   "cell_type": "code",
   "execution_count": 11,
   "id": "68749258",
   "metadata": {},
   "outputs": [
    {
     "data": {
      "text/plain": [
       "3"
      ]
     },
     "execution_count": 11,
     "metadata": {},
     "output_type": "execute_result"
    }
   ],
   "source": [
    "1 + 2"
   ]
  },
  {
   "cell_type": "code",
   "execution_count": 12,
   "id": "744389a2",
   "metadata": {},
   "outputs": [
    {
     "data": {
      "text/plain": [
       "9"
      ]
     },
     "execution_count": 12,
     "metadata": {},
     "output_type": "execute_result"
    }
   ],
   "source": [
    "3 ** 2"
   ]
  },
  {
   "cell_type": "markdown",
   "id": "776ca8d0",
   "metadata": {},
   "source": [
    "## Boolean"
   ]
  },
  {
   "cell_type": "markdown",
   "id": "7fcb4432",
   "metadata": {},
   "source": [
    "Boolean (bool): True/False values"
   ]
  },
  {
   "cell_type": "code",
   "execution_count": 13,
   "id": "ff929aff",
   "metadata": {},
   "outputs": [
    {
     "data": {
      "text/plain": [
       "bool"
      ]
     },
     "execution_count": 13,
     "metadata": {},
     "output_type": "execute_result"
    }
   ],
   "source": [
    "type(True)"
   ]
  },
  {
   "cell_type": "markdown",
   "id": "3f8fb26b",
   "metadata": {},
   "source": [
    "## String"
   ]
  },
  {
   "cell_type": "markdown",
   "id": "75611804",
   "metadata": {},
   "source": [
    "String (str): A string represents a series of characters. In Python, anything inside quotes (single quotes or double-quotes) is a string."
   ]
  },
  {
   "cell_type": "code",
   "execution_count": 14,
   "id": "c8c4d779",
   "metadata": {
    "scrolled": true
   },
   "outputs": [
    {
     "data": {
      "text/plain": [
       "str"
      ]
     },
     "execution_count": 14,
     "metadata": {},
     "output_type": "execute_result"
    }
   ],
   "source": [
    "type(\"Hello World\")"
   ]
  },
  {
   "cell_type": "markdown",
   "id": "8844ddb6",
   "metadata": {},
   "source": [
    "### String Methods"
   ]
  },
  {
   "cell_type": "markdown",
   "id": "85fb76d5",
   "metadata": {},
   "source": [
    "We can apply different functions to strings as we would do in Excel. However in Python we use methods. A method is a function that \"belongs to\" an object. To call a method we use the \".\" sign after the object . \n",
    "Let's see some string methods to change the case of text."
   ]
  },
  {
   "cell_type": "code",
   "execution_count": 15,
   "id": "0886917d",
   "metadata": {},
   "outputs": [
    {
     "name": "stdout",
     "output_type": "stream",
     "text": [
      "HELLO WORLD\n",
      "hello world\n",
      "Hello World\n",
      "3\n",
      "hellu wurld\n"
     ]
    }
   ],
   "source": [
    "# change case of text\n",
    "print(\"Hello World\".upper())\n",
    "print(\"Hello World\".lower())\n",
    "print(\"hello world\".title())\n",
    "\n",
    "# count letters\n",
    "print(\"hello world\".count('l'))\n",
    "# replace string letters\n",
    "print(\"hello world\".replace('o', 'u'))"
   ]
  },
  {
   "cell_type": "markdown",
   "id": "a1a59256",
   "metadata": {},
   "source": [
    "There are other data types in Python and we will see them in detail in the following sections."
   ]
  },
  {
   "cell_type": "markdown",
   "id": "7b2ce79d",
   "metadata": {},
   "source": [
    "# Variables"
   ]
  },
  {
   "cell_type": "markdown",
   "id": "1894ec3c",
   "metadata": {},
   "source": [
    "Variables helps us store data values. In Python, we often work with data, so variables are useful to manage this data properly. A variable contains a value, which is the information associated with a variable. To assign a value to a variable, we use the =.\n",
    "\n",
    "\n",
    "Let's create a message that says \"I'm learning Python\" and store it in a variable called message_1."
   ]
  },
  {
   "cell_type": "code",
   "execution_count": 16,
   "id": "2387a2d7",
   "metadata": {},
   "outputs": [],
   "source": [
    "# message_1 = \"I'm learning Python\"\n",
    "message_1 = \"I'm learning Java\""
   ]
  },
  {
   "cell_type": "markdown",
   "id": "b5a3a8d1",
   "metadata": {},
   "source": [
    "Now, if we want to obtain the message \"I'm learning Python\" we only have to type the variable name"
   ]
  },
  {
   "cell_type": "code",
   "execution_count": 17,
   "id": "ef19a092",
   "metadata": {
    "scrolled": true
   },
   "outputs": [
    {
     "data": {
      "text/plain": [
       "\"I'm learning Java\""
      ]
     },
     "execution_count": 17,
     "metadata": {},
     "output_type": "execute_result"
    }
   ],
   "source": [
    "message_1"
   ]
  },
  {
   "cell_type": "markdown",
   "id": "ed16868d",
   "metadata": {},
   "source": [
    "We can create as many variables as we want. Just make sure to assign different names to new variables.\n",
    "Let's create a new message that says \"and it's fun!\" and store it in a variable called message_2."
   ]
  },
  {
   "cell_type": "code",
   "execution_count": 18,
   "id": "2378573c",
   "metadata": {},
   "outputs": [],
   "source": [
    "# message_2 = \"and it's fun!\"\n",
    "message_2 = \"and it's boring!\""
   ]
  },
  {
   "cell_type": "markdown",
   "id": "73531377",
   "metadata": {},
   "source": [
    "## String Concatenation"
   ]
  },
  {
   "cell_type": "markdown",
   "id": "259c52f4",
   "metadata": {},
   "source": [
    "We can put message_1 and message_2 together by using the + operator. This is called string concatenation."
   ]
  },
  {
   "cell_type": "code",
   "execution_count": 19,
   "id": "04eebbf3",
   "metadata": {},
   "outputs": [
    {
     "data": {
      "text/plain": [
       "\"I'm learning Javaand it's boring!\""
      ]
     },
     "execution_count": 19,
     "metadata": {},
     "output_type": "execute_result"
    }
   ],
   "source": [
    "message_1 + message_2"
   ]
  },
  {
   "cell_type": "markdown",
   "id": "d20e7296",
   "metadata": {},
   "source": [
    "We need to add a blank space \" \"to make the text readable. This time let's also store this new message in a new variable called message"
   ]
  },
  {
   "cell_type": "code",
   "execution_count": 20,
   "id": "ca00184a",
   "metadata": {},
   "outputs": [
    {
     "data": {
      "text/plain": [
       "\"I'm learning Java and it's boring!\""
      ]
     },
     "execution_count": 20,
     "metadata": {},
     "output_type": "execute_result"
    }
   ],
   "source": [
    "message = message_1 + ' ' + message_2\n",
    "message"
   ]
  },
  {
   "cell_type": "markdown",
   "id": "d139b60c",
   "metadata": {},
   "source": [
    "We can also use another option called f-string. Let's have a look"
   ]
  },
  {
   "cell_type": "code",
   "execution_count": 21,
   "id": "3c32e18b",
   "metadata": {},
   "outputs": [
    {
     "data": {
      "text/plain": [
       "\"I'm learning Java and it's boring!\""
      ]
     },
     "execution_count": 21,
     "metadata": {},
     "output_type": "execute_result"
    }
   ],
   "source": [
    "message = f'{message_1} {message_2}'\n",
    "message"
   ]
  },
  {
   "cell_type": "markdown",
   "id": "9d810210",
   "metadata": {},
   "source": [
    "# List"
   ]
  },
  {
   "cell_type": "markdown",
   "id": "de1e872d",
   "metadata": {},
   "source": [
    "In Python, lists are used to store multiple items in a single variable. Lists are ordered and mutable containers. In Python, we call 'mutable' to objects that can change their values. That is, elements within a list can change their value.\n",
    "\n",
    "To create a list, we have to introduce the elements inside square brackets ([]), separated by commas. Consider the following list named \"countries\" that contains some of the countries with the largest population around the world."
   ]
  },
  {
   "cell_type": "code",
   "execution_count": 22,
   "id": "251fef24",
   "metadata": {},
   "outputs": [],
   "source": [
    "countries = ['United States', 'India', 'China', 'Brazil']"
   ]
  },
  {
   "cell_type": "markdown",
   "id": "cfa201f9",
   "metadata": {},
   "source": [
    "Keep in mind that lists can have elements of different types and duplicated elements."
   ]
  },
  {
   "cell_type": "markdown",
   "id": "df084d7c",
   "metadata": {},
   "source": [
    "## Indexing"
   ]
  },
  {
   "cell_type": "markdown",
   "id": "a85e45e2",
   "metadata": {},
   "source": [
    "By indexing we can obtain a list item or element by its position. Each item in a list has an index (position in the list). Python uses zero-based indexing. That is, the first element (\"United States\") has an index 0, the second(\"India\") has index 1, and so on.\n",
    "\n",
    "To access an element by its index we need to use square brackets []. Let's see some examples:"
   ]
  },
  {
   "cell_type": "code",
   "execution_count": 23,
   "id": "89ea8fe8",
   "metadata": {},
   "outputs": [
    {
     "name": "stdout",
     "output_type": "stream",
     "text": [
      "United States\n",
      "India\n",
      "China\n",
      "Brazil\n"
     ]
    }
   ],
   "source": [
    "print(countries[0])\n",
    "print(countries[1])\n",
    "print(countries[2])\n",
    "print(countries[3])"
   ]
  },
  {
   "cell_type": "markdown",
   "id": "1dd757b3",
   "metadata": {},
   "source": [
    "There's also negative index that help us get elements starting on the last position of the list, so instead of using indexes from 0 and above, we use indexes from -1 and below.\n",
    "\n",
    "Let's get the last element of the list but now using a negative index."
   ]
  },
  {
   "cell_type": "code",
   "execution_count": 24,
   "id": "2ad7e1ce",
   "metadata": {
    "scrolled": true
   },
   "outputs": [
    {
     "name": "stdout",
     "output_type": "stream",
     "text": [
      "Brazil\n"
     ]
    }
   ],
   "source": [
    "print(countries[-1])"
   ]
  },
  {
   "cell_type": "markdown",
   "id": "cb5d324b",
   "metadata": {},
   "source": [
    "## Slicing"
   ]
  },
  {
   "cell_type": "markdown",
   "id": "8bb438f0",
   "metadata": {},
   "source": [
    "Slicing means accessing parts of a list. A slice is a subset of list elements. Slice notation takes the form of:"
   ]
  },
  {
   "cell_type": "markdown",
   "id": "8feed189",
   "metadata": {},
   "source": [
    "list_name[start:stop]"
   ]
  },
  {
   "cell_type": "markdown",
   "id": "14ff0d0e",
   "metadata": {},
   "source": [
    "where \"start\" represents the index of the first element, and stop represents the element to stop at (without including it in the slice). \n",
    "\n",
    "Let's see some examples:"
   ]
  },
  {
   "cell_type": "code",
   "execution_count": 25,
   "id": "600586f9",
   "metadata": {},
   "outputs": [
    {
     "name": "stdout",
     "output_type": "stream",
     "text": [
      "['United States', 'India', 'China']\n",
      "['India', 'China', 'Brazil']\n",
      "['United States', 'India']\n"
     ]
    }
   ],
   "source": [
    "print(countries[0:3])\n",
    "print(countries[1:])\n",
    "print(countries[:2])"
   ]
  },
  {
   "cell_type": "markdown",
   "id": "074059c3",
   "metadata": {},
   "source": [
    "## List Operations and Methods"
   ]
  },
  {
   "cell_type": "markdown",
   "id": "b6148234",
   "metadata": {},
   "source": [
    "There are a lot of things you can do with lists. You can add new elements, remove any element, update values, and so on. In this. section, we will see the most common list operation and methods"
   ]
  },
  {
   "cell_type": "markdown",
   "id": "849930cb",
   "metadata": {},
   "source": [
    "### Adding elements to a list"
   ]
  },
  {
   "cell_type": "markdown",
   "id": "623ad7ef",
   "metadata": {},
   "source": [
    "There are different methods that helps us add a new element to a list. Let's have a look."
   ]
  },
  {
   "cell_type": "code",
   "execution_count": 26,
   "id": "767057d7",
   "metadata": {},
   "outputs": [
    {
     "data": {
      "text/plain": [
       "['United States', 'India', 'China', 'Brazil', 'Canada']"
      ]
     },
     "execution_count": 26,
     "metadata": {},
     "output_type": "execute_result"
    }
   ],
   "source": [
    "# append: Adds a new element at the end of a list\n",
    "countries = ['United States', 'India', 'China', 'Brazil']\n",
    "countries.append('Canada')\n",
    "countries"
   ]
  },
  {
   "cell_type": "code",
   "execution_count": 27,
   "id": "766be261",
   "metadata": {},
   "outputs": [
    {
     "data": {
      "text/plain": [
       "['Canada', 'United States', 'India', 'China', 'Brazil']"
      ]
     },
     "execution_count": 27,
     "metadata": {},
     "output_type": "execute_result"
    }
   ],
   "source": [
    "# insert: Adds a new element at a specific position\n",
    "countries = ['United States', 'India', 'China', 'Brazil']\n",
    "countries.insert(0,'Canada')\n",
    "countries"
   ]
  },
  {
   "cell_type": "code",
   "execution_count": 28,
   "id": "165f8129",
   "metadata": {
    "scrolled": true
   },
   "outputs": [
    {
     "data": {
      "text/plain": [
       "['Canada',\n",
       " 'United States',\n",
       " 'India',\n",
       " 'China',\n",
       " 'Brazil',\n",
       " 'UK',\n",
       " 'Germany',\n",
       " 'Austria']"
      ]
     },
     "execution_count": 28,
     "metadata": {},
     "output_type": "execute_result"
    }
   ],
   "source": [
    "# joining lists using the + operators\n",
    "countries_2 = ['UK', 'Germany', 'Austria']\n",
    "countries + countries_2"
   ]
  },
  {
   "cell_type": "markdown",
   "id": "49c0bfee",
   "metadata": {},
   "source": [
    "We can put the list countries and countries_2 inside another list, which is called nested list."
   ]
  },
  {
   "cell_type": "code",
   "execution_count": 29,
   "id": "0658f115",
   "metadata": {},
   "outputs": [
    {
     "data": {
      "text/plain": [
       "[['Canada', 'United States', 'India', 'China', 'Brazil'],\n",
       " ['UK', 'Germany', 'Austria']]"
      ]
     },
     "execution_count": 29,
     "metadata": {},
     "output_type": "execute_result"
    }
   ],
   "source": [
    "# nested list\n",
    "nested_list = [countries, countries_2]\n",
    "nested_list"
   ]
  },
  {
   "cell_type": "markdown",
   "id": "b4db329b",
   "metadata": {},
   "source": [
    "### Remove an element"
   ]
  },
  {
   "cell_type": "markdown",
   "id": "94056285",
   "metadata": {},
   "source": [
    "There are different methods that helps us remove an element from a list."
   ]
  },
  {
   "cell_type": "code",
   "execution_count": 30,
   "id": "194d6e8e",
   "metadata": {},
   "outputs": [
    {
     "name": "stdout",
     "output_type": "stream",
     "text": [
      "['United States', 'India', 'China', 'Brazil']\n",
      "['India', 'China', 'Brazil']\n",
      "['China', 'Brazil']\n",
      "['Brazil']\n"
     ]
    }
   ],
   "source": [
    "countries = ['United States', 'India',\n",
    "             'China', 'Brazil']\n",
    "print(countries)\n",
    "\n",
    "# .remove() Removes the first matching value\n",
    "countries.remove('United States')\n",
    "print(countries)\n",
    "# .pop() Removes an item at an specific index and then returns it.\n",
    "countries.pop(0)\n",
    "print(countries)\n",
    "# del: removes an item at an specific index\n",
    "del countries[0]\n",
    "print(countries)"
   ]
  },
  {
   "cell_type": "markdown",
   "id": "2e6cc6df",
   "metadata": {},
   "source": [
    "### Sorting a list"
   ]
  },
  {
   "cell_type": "markdown",
   "id": "150aaadc",
   "metadata": {},
   "source": [
    "We can easily sort a list using the .sort() method. Let's create a new list called numbers and then sort it from the smallest to largest number."
   ]
  },
  {
   "cell_type": "code",
   "execution_count": 31,
   "id": "94bf4e78",
   "metadata": {},
   "outputs": [
    {
     "data": {
      "text/plain": [
       "[1, 2, 3, 4, 7, 10]"
      ]
     },
     "execution_count": 31,
     "metadata": {},
     "output_type": "execute_result"
    }
   ],
   "source": [
    "numbers = [4, 3, 10, 7, 1, 2]\n",
    "numbers.sort()\n",
    "numbers"
   ]
  },
  {
   "cell_type": "markdown",
   "id": "83914076",
   "metadata": {},
   "source": [
    "We can add the reverse argument to the .sort() method to control the order. If we want it to be descendent we set reverse=True"
   ]
  },
  {
   "cell_type": "code",
   "execution_count": 32,
   "id": "78b1a894",
   "metadata": {
    "scrolled": true
   },
   "outputs": [
    {
     "data": {
      "text/plain": [
       "[10, 7, 4, 3, 2, 1]"
      ]
     },
     "execution_count": 32,
     "metadata": {},
     "output_type": "execute_result"
    }
   ],
   "source": [
    "numbers = [4, 3, 10, 7, 1, 2]\n",
    "numbers.sort(reverse=True)\n",
    "numbers"
   ]
  },
  {
   "cell_type": "markdown",
   "id": "0a66b894",
   "metadata": {},
   "source": [
    "### Update value on a list"
   ]
  },
  {
   "cell_type": "markdown",
   "id": "d5046943",
   "metadata": {},
   "source": [
    "To update a value on a list we use indexing to locate the element we want to update and then set it to a new value using the = sign."
   ]
  },
  {
   "cell_type": "code",
   "execution_count": 33,
   "id": "623701b9",
   "metadata": {},
   "outputs": [
    {
     "data": {
      "text/plain": [
       "[1000, 7, 4, 3, 2, 1]"
      ]
     },
     "execution_count": 33,
     "metadata": {},
     "output_type": "execute_result"
    }
   ],
   "source": [
    "numbers[0] = 1000\n",
    "numbers"
   ]
  },
  {
   "cell_type": "markdown",
   "id": "00b6be3c",
   "metadata": {},
   "source": [
    "### Copying a list"
   ]
  },
  {
   "cell_type": "markdown",
   "id": "65c583f0",
   "metadata": {},
   "source": [
    "Whenever we need to make a copy of an existing list, we can use the following options:"
   ]
  },
  {
   "cell_type": "code",
   "execution_count": 34,
   "id": "f1f266da",
   "metadata": {},
   "outputs": [
    {
     "name": "stdout",
     "output_type": "stream",
     "text": [
      "['Brazil']\n",
      "['Brazil']\n"
     ]
    }
   ],
   "source": [
    "new_list = countries[:]\n",
    "print(new_list)\n",
    "new_list_2 = countries.copy()\n",
    "print(new_list_2)"
   ]
  },
  {
   "cell_type": "markdown",
   "id": "310e6596",
   "metadata": {},
   "source": [
    "The [:] comes from the slicing technique we learned before. In this case, we didn't set neither a start nor a stop value, so the entire list is selected. On the other hand, the .copy() method explicitly makes a copy of a list."
   ]
  },
  {
   "cell_type": "markdown",
   "id": "662a480f",
   "metadata": {},
   "source": [
    "# Dictionary"
   ]
  },
  {
   "cell_type": "markdown",
   "id": "36fdf1ec",
   "metadata": {},
   "source": [
    "In Python, dictionaries help us store data in key:value pairs (one pair is called an item). Like lists, dictionaries are mutable, but unlike lists, dictionaries are accessed via keys and duplicate keys are not allowed."
   ]
  },
  {
   "cell_type": "code",
   "execution_count": 35,
   "id": "8a4c559a",
   "metadata": {},
   "outputs": [],
   "source": [
    "my_data = {'name':'Frank', 'age':26}"
   ]
  },
  {
   "cell_type": "code",
   "execution_count": 36,
   "id": "c42a02dd",
   "metadata": {},
   "outputs": [
    {
     "data": {
      "text/plain": [
       "'Frank'"
      ]
     },
     "execution_count": 36,
     "metadata": {},
     "output_type": "execute_result"
    }
   ],
   "source": [
    "my_data['name']"
   ]
  },
  {
   "cell_type": "code",
   "execution_count": 37,
   "id": "bcc54797",
   "metadata": {},
   "outputs": [
    {
     "data": {
      "text/plain": [
       "dict_keys(['name', 'age'])"
      ]
     },
     "execution_count": 37,
     "metadata": {},
     "output_type": "execute_result"
    }
   ],
   "source": [
    "my_data.keys()"
   ]
  },
  {
   "cell_type": "code",
   "execution_count": 38,
   "id": "dfe709ee",
   "metadata": {},
   "outputs": [
    {
     "data": {
      "text/plain": [
       "dict_values(['Frank', 26])"
      ]
     },
     "execution_count": 38,
     "metadata": {},
     "output_type": "execute_result"
    }
   ],
   "source": [
    "my_data.values()"
   ]
  },
  {
   "cell_type": "code",
   "execution_count": 39,
   "id": "7f7ce46d",
   "metadata": {},
   "outputs": [
    {
     "data": {
      "text/plain": [
       "dict_items([('name', 'Frank'), ('age', 26)])"
      ]
     },
     "execution_count": 39,
     "metadata": {},
     "output_type": "execute_result"
    }
   ],
   "source": [
    "my_data.items()"
   ]
  },
  {
   "cell_type": "markdown",
   "id": "8ff58f00",
   "metadata": {},
   "source": [
    "## Add/update elements"
   ]
  },
  {
   "cell_type": "markdown",
   "id": "8245e7df",
   "metadata": {},
   "source": [
    "Similar to lists, we can add and update values in a dictionary. Let's start by adding a new pair key-value that represents my height."
   ]
  },
  {
   "cell_type": "code",
   "execution_count": 40,
   "id": "97ff4683",
   "metadata": {},
   "outputs": [],
   "source": [
    "my_data['height']=1.7"
   ]
  },
  {
   "cell_type": "code",
   "execution_count": 41,
   "id": "924660a8",
   "metadata": {},
   "outputs": [
    {
     "data": {
      "text/plain": [
       "{'name': 'Frank', 'age': 26, 'height': 1.7}"
      ]
     },
     "execution_count": 41,
     "metadata": {},
     "output_type": "execute_result"
    }
   ],
   "source": [
    "my_data"
   ]
  },
  {
   "cell_type": "code",
   "execution_count": 42,
   "id": "1ca690d9",
   "metadata": {},
   "outputs": [],
   "source": [
    "my_data.update({'height':1.8,'languages':['English', 'Spanish']})"
   ]
  },
  {
   "cell_type": "code",
   "execution_count": 43,
   "id": "7e1be28a",
   "metadata": {},
   "outputs": [
    {
     "data": {
      "text/plain": [
       "{'name': 'Frank',\n",
       " 'age': 26,\n",
       " 'height': 1.8,\n",
       " 'languages': ['English', 'Spanish']}"
      ]
     },
     "execution_count": 43,
     "metadata": {},
     "output_type": "execute_result"
    }
   ],
   "source": [
    "my_data"
   ]
  },
  {
   "cell_type": "markdown",
   "id": "801a6ad4",
   "metadata": {},
   "source": [
    "## Copy a dictionary"
   ]
  },
  {
   "cell_type": "markdown",
   "id": "b7a25561",
   "metadata": {},
   "source": [
    "We can use the .copy method to make a copy of a dictionary."
   ]
  },
  {
   "cell_type": "code",
   "execution_count": 44,
   "id": "dff15e40",
   "metadata": {
    "scrolled": true
   },
   "outputs": [
    {
     "data": {
      "text/plain": [
       "{'name': 'Frank',\n",
       " 'age': 26,\n",
       " 'height': 1.8,\n",
       " 'languages': ['English', 'Spanish']}"
      ]
     },
     "execution_count": 44,
     "metadata": {},
     "output_type": "execute_result"
    }
   ],
   "source": [
    "new_dict = my_data.copy()\n",
    "new_dict"
   ]
  },
  {
   "cell_type": "markdown",
   "id": "1c9a6160",
   "metadata": {},
   "source": [
    "## Remove elements"
   ]
  },
  {
   "cell_type": "code",
   "execution_count": 45,
   "id": "9190296c",
   "metadata": {},
   "outputs": [
    {
     "data": {
      "text/plain": [
       "1.8"
      ]
     },
     "execution_count": 45,
     "metadata": {},
     "output_type": "execute_result"
    }
   ],
   "source": [
    "my_data.pop('height')"
   ]
  },
  {
   "cell_type": "code",
   "execution_count": 46,
   "id": "1be32e98",
   "metadata": {},
   "outputs": [
    {
     "data": {
      "text/plain": [
       "{'name': 'Frank', 'age': 26, 'languages': ['English', 'Spanish']}"
      ]
     },
     "execution_count": 46,
     "metadata": {},
     "output_type": "execute_result"
    }
   ],
   "source": [
    "my_data"
   ]
  },
  {
   "cell_type": "code",
   "execution_count": 47,
   "id": "e3441838",
   "metadata": {},
   "outputs": [],
   "source": [
    "del my_data['languages'] "
   ]
  },
  {
   "cell_type": "code",
   "execution_count": 48,
   "id": "0cb201d5",
   "metadata": {},
   "outputs": [
    {
     "data": {
      "text/plain": [
       "{'name': 'Frank', 'age': 26}"
      ]
     },
     "execution_count": 48,
     "metadata": {},
     "output_type": "execute_result"
    }
   ],
   "source": [
    "my_data"
   ]
  },
  {
   "cell_type": "code",
   "execution_count": 49,
   "id": "a25f4452",
   "metadata": {},
   "outputs": [],
   "source": [
    "my_data.clear()"
   ]
  },
  {
   "cell_type": "code",
   "execution_count": 50,
   "id": "5dff8e48",
   "metadata": {},
   "outputs": [
    {
     "data": {
      "text/plain": [
       "{}"
      ]
     },
     "execution_count": 50,
     "metadata": {},
     "output_type": "execute_result"
    }
   ],
   "source": [
    "my_data"
   ]
  },
  {
   "cell_type": "markdown",
   "id": "03bba7ea",
   "metadata": {},
   "source": [
    "# If Statement"
   ]
  },
  {
   "cell_type": "markdown",
   "id": "f8290902",
   "metadata": {},
   "source": [
    "The if statement is one of the most common statements used in Python. It's a conditional statement used to decide whether a statement (or block of statements) will be executed."
   ]
  },
  {
   "cell_type": "code",
   "execution_count": 51,
   "id": "7e07eb6c",
   "metadata": {},
   "outputs": [
    {
     "name": "stdout",
     "output_type": "stream",
     "text": [
      "You're an adult!\n"
     ]
    }
   ],
   "source": [
    "age = 18\n",
    "\n",
    "if age>=18:\n",
    "    print(\"You're an adult!\")\n",
    "elif age>=13:\n",
    "    print(\"You're a teenager!\")\n",
    "else:\n",
    "    print(\"You're a kid\")"
   ]
  },
  {
   "cell_type": "markdown",
   "id": "afc2ceca",
   "metadata": {},
   "source": [
    "We can use the if statement with  in keyword to verify if an element is in a list."
   ]
  },
  {
   "cell_type": "code",
   "execution_count": 52,
   "id": "8abc9189",
   "metadata": {},
   "outputs": [
    {
     "name": "stdout",
     "output_type": "stream",
     "text": [
      "Country is in list\n"
     ]
    }
   ],
   "source": [
    "countries = ['United States', 'India',\n",
    "             'China', 'Brazil']\n",
    "\n",
    "if 'China' in countries:\n",
    "    print(\"Country is in list\")\n",
    "else:\n",
    "    print(\"Not in list\")"
   ]
  },
  {
   "cell_type": "markdown",
   "id": "352f76b1",
   "metadata": {},
   "source": [
    "<b> Operators <b>"
   ]
  },
  {
   "cell_type": "markdown",
   "id": "dbba149b",
   "metadata": {},
   "source": [
    "Comparisson Operators\n",
    "- Equal to: == \n",
    "- Different: !=\n",
    "- Greater than: >\n",
    "- Less than: <\n",
    "- Greater than or equal to: >=\n",
    "- Less than or equal to: <=\n",
    "\n",
    "Boolean Operators\n",
    "- and\n",
    "- or\n",
    "- not"
   ]
  },
  {
   "cell_type": "markdown",
   "id": "76ea7140",
   "metadata": {},
   "source": [
    "# For Loop"
   ]
  },
  {
   "cell_type": "markdown",
   "id": "c283ecef",
   "metadata": {},
   "source": [
    "The for loop is a frequently used loop in Python. It allows us to loop through an iterable object (e.g., list, dictionaries) and perform the same action to each element."
   ]
  },
  {
   "cell_type": "code",
   "execution_count": 53,
   "id": "03ee1dc4",
   "metadata": {},
   "outputs": [
    {
     "name": "stdout",
     "output_type": "stream",
     "text": [
      "United States\n",
      "India\n",
      "China\n",
      "Brazil\n"
     ]
    }
   ],
   "source": [
    "for country in countries:\n",
    "    print(country)"
   ]
  },
  {
   "cell_type": "code",
   "execution_count": 54,
   "id": "a7f1192d",
   "metadata": {},
   "outputs": [
    {
     "name": "stdout",
     "output_type": "stream",
     "text": [
      "United States\n"
     ]
    }
   ],
   "source": [
    "for country in countries:\n",
    "    if country == \"United States\":\n",
    "        print(country)"
   ]
  },
  {
   "cell_type": "markdown",
   "id": "3184c3cc",
   "metadata": {},
   "source": [
    "## Enumerating in a for loop"
   ]
  },
  {
   "cell_type": "markdown",
   "id": "b611aabf",
   "metadata": {},
   "source": [
    "Sometimes we need to enumerate elements in a loop. We can do this with the for loop."
   ]
  },
  {
   "cell_type": "code",
   "execution_count": 69,
   "id": "8f21269c",
   "metadata": {
    "scrolled": true
   },
   "outputs": [
    {
     "name": "stdout",
     "output_type": "stream",
     "text": [
      "1. United States\n",
      "2. India\n",
      "3. China\n",
      "4. Brazil\n"
     ]
    }
   ],
   "source": [
    "for i, country in enumerate(countries):\n",
    "    print(f\"{i + 1}. {country}\")"
   ]
  },
  {
   "cell_type": "markdown",
   "id": "39155bb7",
   "metadata": {},
   "source": [
    "## Looping through dictionary elements"
   ]
  },
  {
   "cell_type": "markdown",
   "id": "48784761",
   "metadata": {},
   "source": [
    "We can obtain the key and item separately while looping through a dictionary. We only need to use the .items() method."
   ]
  },
  {
   "cell_type": "code",
   "execution_count": 56,
   "id": "50fad343",
   "metadata": {},
   "outputs": [],
   "source": [
    "for key, value in my_data.items():\n",
    "    print(key)\n",
    "    print(value)"
   ]
  },
  {
   "cell_type": "markdown",
   "id": "1965e294",
   "metadata": {},
   "source": [
    "# Functions"
   ]
  },
  {
   "cell_type": "markdown",
   "id": "42a4f1b6",
   "metadata": {},
   "source": [
    "## Built-In Functions"
   ]
  },
  {
   "cell_type": "markdown",
   "id": "600f4369",
   "metadata": {},
   "source": [
    "Python has lots of built-in functions that can help us perform a specific task. Let's have a look at the most common of them."
   ]
  },
  {
   "cell_type": "markdown",
   "id": "cf13f207",
   "metadata": {},
   "source": [
    "- range()\n",
    "- len()\n",
    "- max()\n",
    "- min()\n",
    "- round()\n",
    "- type()"
   ]
  },
  {
   "cell_type": "markdown",
   "id": "192ed138",
   "metadata": {},
   "source": [
    "## How to Create a Function"
   ]
  },
  {
   "cell_type": "markdown",
   "id": "c6bde7f6",
   "metadata": {},
   "source": [
    "We can also create our own functions. Let's create a function that sums two values a and b"
   ]
  },
  {
   "cell_type": "code",
   "execution_count": 57,
   "id": "3028933b",
   "metadata": {},
   "outputs": [],
   "source": [
    "def sum_values(a,b):\n",
    "    x = a+b\n",
    "    return x"
   ]
  },
  {
   "cell_type": "code",
   "execution_count": 58,
   "id": "435524fa",
   "metadata": {},
   "outputs": [
    {
     "data": {
      "text/plain": [
       "5"
      ]
     },
     "execution_count": 58,
     "metadata": {},
     "output_type": "execute_result"
    }
   ],
   "source": [
    "sum_values(2,3)"
   ]
  },
  {
   "cell_type": "markdown",
   "id": "802a4ce1",
   "metadata": {},
   "source": [
    "# Modules"
   ]
  },
  {
   "cell_type": "markdown",
   "id": "57bf7dfa",
   "metadata": {},
   "source": [
    "A module is a file consisting of Python code. A module can contain functions, classes, variables and also runnable code."
   ]
  },
  {
   "cell_type": "markdown",
   "id": "a0a8ee08",
   "metadata": {},
   "source": [
    "We can get access to a Python module with the \"import\" statement"
   ]
  },
  {
   "cell_type": "markdown",
   "id": "1e8cc9aa",
   "metadata": {},
   "source": [
    "## OS Module"
   ]
  },
  {
   "cell_type": "markdown",
   "id": "1845a893",
   "metadata": {},
   "source": [
    "The OS module comes with Python. It provides functions for interacting with the operating system"
   ]
  },
  {
   "cell_type": "code",
   "execution_count": 59,
   "id": "0bf068fb",
   "metadata": {},
   "outputs": [],
   "source": [
    "import os"
   ]
  },
  {
   "cell_type": "code",
   "execution_count": 60,
   "id": "79e55d3c",
   "metadata": {
    "scrolled": true
   },
   "outputs": [
    {
     "data": {
      "text/plain": [
       "'d:\\\\Study\\\\AI ML\\\\python-for-data-science\\\\01.Python Crash Course'"
      ]
     },
     "execution_count": 60,
     "metadata": {},
     "output_type": "execute_result"
    }
   ],
   "source": [
    "os.getcwd()"
   ]
  },
  {
   "cell_type": "code",
   "execution_count": 61,
   "id": "ecb0e105",
   "metadata": {},
   "outputs": [
    {
     "data": {
      "text/plain": [
       "['New Folder', 'Python Crash Course.ipynb']"
      ]
     },
     "execution_count": 61,
     "metadata": {},
     "output_type": "execute_result"
    }
   ],
   "source": [
    "os.listdir()"
   ]
  },
  {
   "cell_type": "code",
   "execution_count": 75,
   "id": "d9b01f95",
   "metadata": {},
   "outputs": [],
   "source": [
    "os.makedirs('New Folder')"
   ]
  },
  {
   "cell_type": "code",
   "execution_count": 76,
   "id": "aecdd633",
   "metadata": {},
   "outputs": [
    {
     "data": {
      "text/plain": [
       "['New Folder', 'Python Crash Course.ipynb']"
      ]
     },
     "execution_count": 76,
     "metadata": {},
     "output_type": "execute_result"
    }
   ],
   "source": [
    "os.listdir()"
   ]
  },
  {
   "cell_type": "code",
   "execution_count": 77,
   "id": "d1d0bb7a",
   "metadata": {},
   "outputs": [],
   "source": [
    "os.removedirs('New Folder')"
   ]
  },
  {
   "cell_type": "code",
   "execution_count": 78,
   "id": "89a17f26",
   "metadata": {},
   "outputs": [
    {
     "data": {
      "text/plain": [
       "['Python Crash Course.ipynb']"
      ]
     },
     "execution_count": 78,
     "metadata": {},
     "output_type": "execute_result"
    }
   ],
   "source": [
    "os.listdir()"
   ]
  }
 ],
 "metadata": {
  "kernelspec": {
   "display_name": "base",
   "language": "python",
   "name": "python3"
  },
  "language_info": {
   "codemirror_mode": {
    "name": "ipython",
    "version": 3
   },
   "file_extension": ".py",
   "mimetype": "text/x-python",
   "name": "python",
   "nbconvert_exporter": "python",
   "pygments_lexer": "ipython3",
   "version": "3.12.7"
  },
  "toc": {
   "base_numbering": 1,
   "nav_menu": {},
   "number_sections": true,
   "sideBar": true,
   "skip_h1_title": false,
   "title_cell": "Table of Contents",
   "title_sidebar": "Contents",
   "toc_cell": false,
   "toc_position": {},
   "toc_section_display": true,
   "toc_window_display": false
  }
 },
 "nbformat": 4,
 "nbformat_minor": 5
}
