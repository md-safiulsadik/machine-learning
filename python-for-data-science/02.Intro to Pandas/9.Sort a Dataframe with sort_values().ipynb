{
 "cells": [
  {
   "cell_type": "code",
   "execution_count": null,
   "id": "086faf12",
   "metadata": {},
   "outputs": [],
   "source": [
    "import pandas as pd"
   ]
  },
  {
   "cell_type": "code",
   "execution_count": null,
   "id": "72d1cae5",
   "metadata": {},
   "outputs": [],
   "source": [
    "# reading and showing dataframe\n",
    "df_exams = pd.read_csv('StudentsPerformance.csv')\n",
    "df_exams"
   ]
  },
  {
   "cell_type": "markdown",
   "id": "449f31dd",
   "metadata": {},
   "source": [
    "# Sort a dataframe"
   ]
  },
  {
   "cell_type": "code",
   "execution_count": null,
   "id": "a7fee5a7",
   "metadata": {},
   "outputs": [],
   "source": [
    "# sort by one column\n",
    "df_exams.sort_values('math score')"
   ]
  },
  {
   "cell_type": "code",
   "execution_count": null,
   "id": "2c80966b",
   "metadata": {},
   "outputs": [],
   "source": [
    "# sort descending by one column\n",
    "df_exams.sort_values('math score', ascending=False)"
   ]
  },
  {
   "cell_type": "code",
   "execution_count": null,
   "id": "03d2b883",
   "metadata": {},
   "outputs": [],
   "source": [
    "# sort descending by multiple columns\n",
    "df_exams.sort_values(['math score', 'reading score'], ascending=False)"
   ]
  },
  {
   "cell_type": "code",
   "execution_count": null,
   "id": "462daccf",
   "metadata": {},
   "outputs": [],
   "source": [
    "# sort descending by multiple columns and update dataframe\n",
    "df_exams.sort_values(['math score', 'reading score'], ascending=False, inplace=True)"
   ]
  },
  {
   "cell_type": "code",
   "execution_count": null,
   "id": "10d9f376",
   "metadata": {},
   "outputs": [],
   "source": [
    "# sort descending with a key function\n",
    "df_exams.sort_values(['race/ethnicity'], ascending=True, key=lambda a:a.str.lower())"
   ]
  }
 ],
 "metadata": {
  "kernelspec": {
   "display_name": "base",
   "language": "python",
   "name": "python3"
  },
  "language_info": {
   "codemirror_mode": {
    "name": "ipython",
    "version": 3
   },
   "file_extension": ".py",
   "mimetype": "text/x-python",
   "name": "python",
   "nbconvert_exporter": "python",
   "pygments_lexer": "ipython3",
   "version": "3.12.7"
  },
  "toc": {
   "base_numbering": 1,
   "nav_menu": {},
   "number_sections": true,
   "sideBar": true,
   "skip_h1_title": false,
   "title_cell": "Table of Contents",
   "title_sidebar": "Contents",
   "toc_cell": false,
   "toc_position": {},
   "toc_section_display": true,
   "toc_window_display": false
  }
 },
 "nbformat": 4,
 "nbformat_minor": 5
}
