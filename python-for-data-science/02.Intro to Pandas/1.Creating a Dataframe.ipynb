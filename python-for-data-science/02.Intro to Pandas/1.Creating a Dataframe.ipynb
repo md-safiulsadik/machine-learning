{
 "cells": [
  {
   "cell_type": "code",
   "execution_count": null,
   "id": "7fa9cddf",
   "metadata": {},
   "outputs": [],
   "source": [
    "import pandas as pd\n",
    "import numpy as np"
   ]
  },
  {
   "cell_type": "markdown",
   "id": "81a09ffd",
   "metadata": {},
   "source": [
    "# Creating a dataframe from an array"
   ]
  },
  {
   "cell_type": "markdown",
   "id": "6db0cb3f",
   "metadata": {},
   "source": [
    "## Option 1"
   ]
  },
  {
   "cell_type": "code",
   "execution_count": null,
   "id": "93d02bc5",
   "metadata": {},
   "outputs": [],
   "source": [
    "# creating an array\n",
    "data = np.array([[1, 4], [2, 5], [3, 6]])"
   ]
  },
  {
   "cell_type": "code",
   "execution_count": null,
   "id": "b9be7874",
   "metadata": {},
   "outputs": [],
   "source": [
    "# creating a dataframe\n",
    "df = pd.DataFrame(data, index=['row1', 'row2', 'row3'],\n",
    "                 columns=['col1', 'col2'])"
   ]
  },
  {
   "cell_type": "code",
   "execution_count": null,
   "id": "7787533c",
   "metadata": {},
   "outputs": [],
   "source": [
    "# showing the dataframe\n",
    "df"
   ]
  },
  {
   "cell_type": "markdown",
   "id": "9a66d12d",
   "metadata": {},
   "source": [
    "## Option 2"
   ]
  },
  {
   "cell_type": "code",
   "execution_count": null,
   "id": "39caa078",
   "metadata": {},
   "outputs": [],
   "source": [
    "# creating an array with list shape\n",
    "data = [[1, 4], [2, 5], [3, 6]]"
   ]
  },
  {
   "cell_type": "code",
   "execution_count": null,
   "id": "dfca7ffa",
   "metadata": {},
   "outputs": [],
   "source": [
    "# creating a dataframe\n",
    "df = pd.DataFrame(data, index=['row1', 'row2', 'row3'],\n",
    "                 columns=['col1', 'col2'])"
   ]
  },
  {
   "cell_type": "code",
   "execution_count": null,
   "id": "7c057728",
   "metadata": {},
   "outputs": [],
   "source": [
    "# showing the dataframe\n",
    "df"
   ]
  },
  {
   "cell_type": "markdown",
   "id": "d7ee2ed9",
   "metadata": {},
   "source": [
    "# Creating a DataFrame from a dictionary"
   ]
  },
  {
   "cell_type": "code",
   "execution_count": null,
   "id": "63bf85b8",
   "metadata": {},
   "outputs": [],
   "source": [
    "# lists used for this example\n",
    "states = [\"California\", \"Texas\", \"Florida\", \"New York\"]\n",
    "population = [39613493, 29730311, 21944577, 19299981]"
   ]
  },
  {
   "cell_type": "code",
   "execution_count": null,
   "id": "b309ebe8",
   "metadata": {},
   "outputs": [],
   "source": [
    "# Storing lists within a dictionary\n",
    "dict_states = {'States': states, 'Population': population}"
   ]
  },
  {
   "cell_type": "code",
   "execution_count": null,
   "id": "4e774499",
   "metadata": {
    "scrolled": false
   },
   "outputs": [],
   "source": [
    "# Creating the dataframe\n",
    "df_population = pd.DataFrame(dict_states)\n",
    "# df_population = pd.DataFrame.from_dict(dict_states)"
   ]
  },
  {
   "cell_type": "code",
   "execution_count": null,
   "id": "585c7ff6",
   "metadata": {},
   "outputs": [],
   "source": [
    "# showing the datafrane\n",
    "df_population"
   ]
  },
  {
   "cell_type": "markdown",
   "id": "245b58bf",
   "metadata": {},
   "source": [
    "# Creating a DataFrame from a csv file"
   ]
  },
  {
   "cell_type": "code",
   "execution_count": null,
   "id": "5a3dcc1e",
   "metadata": {},
   "outputs": [],
   "source": [
    "# reading the csv file\n",
    "df_exams = pd.read_csv('StudentsPerformance.csv')"
   ]
  },
  {
   "cell_type": "code",
   "execution_count": null,
   "id": "585ed37d",
   "metadata": {},
   "outputs": [],
   "source": [
    "# show first 5 rows in a dataframe\n",
    "df_exams"
   ]
  }
 ],
 "metadata": {
  "kernelspec": {
   "display_name": "base",
   "language": "python",
   "name": "python3"
  },
  "language_info": {
   "codemirror_mode": {
    "name": "ipython",
    "version": 3
   },
   "file_extension": ".py",
   "mimetype": "text/x-python",
   "name": "python",
   "nbconvert_exporter": "python",
   "pygments_lexer": "ipython3",
   "version": "3.12.7"
  },
  "toc": {
   "base_numbering": 1,
   "nav_menu": {},
   "number_sections": true,
   "sideBar": true,
   "skip_h1_title": false,
   "title_cell": "Table of Contents",
   "title_sidebar": "Contents",
   "toc_cell": false,
   "toc_position": {},
   "toc_section_display": true,
   "toc_window_display": false
  }
 },
 "nbformat": 4,
 "nbformat_minor": 5
}
