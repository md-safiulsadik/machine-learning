{
 "cells": [
  {
   "cell_type": "code",
   "execution_count": null,
   "id": "2bac431d",
   "metadata": {},
   "outputs": [],
   "source": [
    "# import pandas\n",
    "import pandas as pd"
   ]
  },
  {
   "cell_type": "code",
   "execution_count": null,
   "id": "730ef2aa",
   "metadata": {},
   "outputs": [],
   "source": [
    "# Optional: use the pd.set_option() to display all rows in a dataframe by default\n"
   ]
  },
  {
   "cell_type": "markdown",
   "id": "05c7ec54",
   "metadata": {},
   "source": [
    "# Create a DataFrame"
   ]
  },
  {
   "cell_type": "code",
   "execution_count": null,
   "id": "cfb39f8c",
   "metadata": {},
   "outputs": [],
   "source": [
    "# read the \"bestsellers with categories\" csv file (Dataset on Amazon's Top 50 bestselling books from 2009 to 2019.)\n"
   ]
  },
  {
   "cell_type": "code",
   "execution_count": null,
   "id": "618209c8",
   "metadata": {
    "scrolled": true
   },
   "outputs": [],
   "source": [
    "# get access to the shape attribute\n"
   ]
  },
  {
   "cell_type": "code",
   "execution_count": null,
   "id": "3acde70f",
   "metadata": {},
   "outputs": [],
   "source": [
    "# find the data types of each column\n"
   ]
  },
  {
   "cell_type": "markdown",
   "id": "7f15b10b",
   "metadata": {},
   "source": [
    "# Display a DataFrame"
   ]
  },
  {
   "cell_type": "code",
   "execution_count": null,
   "id": "ef6b8d45",
   "metadata": {
    "scrolled": true
   },
   "outputs": [],
   "source": [
    "# show first 5 rows in a dataframe\n"
   ]
  },
  {
   "cell_type": "code",
   "execution_count": null,
   "id": "a3da1b0a",
   "metadata": {},
   "outputs": [],
   "source": [
    "# describe basic statistics of the dataframe (mean, std, min, max)\n"
   ]
  },
  {
   "cell_type": "markdown",
   "id": "51f4d331",
   "metadata": {},
   "source": [
    "# Add a new Column with an array"
   ]
  },
  {
   "cell_type": "code",
   "execution_count": null,
   "id": "94c526df",
   "metadata": {},
   "outputs": [],
   "source": [
    "# Your task is to create a column named 'Critic Rating' that should have random integer numbers between 1 and 4\n",
    "\n",
    "# 1. import numpy and create 550 random integer numbers between 1 and 4\n",
    "\n",
    "# 2. add new 'Critic Rating' column to dataframe using the random numbers created\n",
    "\n",
    "\n",
    "# Note the random numbers in this new 'Critic Rating' column will be different between your solution and mine, but we'll focus only on the code, in this section."
   ]
  },
  {
   "cell_type": "code",
   "execution_count": null,
   "id": "af7cec1e",
   "metadata": {},
   "outputs": [],
   "source": [
    "# show first 5 rows\n"
   ]
  },
  {
   "cell_type": "markdown",
   "id": "822167f7",
   "metadata": {},
   "source": [
    "# Basic Attributes, Methods and Functions"
   ]
  },
  {
   "cell_type": "code",
   "execution_count": null,
   "id": "3b8dfa8e",
   "metadata": {},
   "outputs": [],
   "source": [
    "# get access to the columns attribute\n"
   ]
  },
  {
   "cell_type": "markdown",
   "id": "6fe2c5f5",
   "metadata": {},
   "source": [
    "# Selecting Two or More Columns from a Dataframe"
   ]
  },
  {
   "cell_type": "code",
   "execution_count": null,
   "id": "1690dbfe",
   "metadata": {},
   "outputs": [],
   "source": [
    "# move the new 'Critic Rating' column between the columns \"User Rating\" and \"Reviews\" Then update the dataframe\n",
    "\n",
    "# Tip: Copy and paste the column names obtained with the columns attribute and then rearrange elements using [[]]\n"
   ]
  },
  {
   "cell_type": "code",
   "execution_count": null,
   "id": "4a294c74",
   "metadata": {},
   "outputs": [],
   "source": [
    "# show first 5 rows\n"
   ]
  },
  {
   "cell_type": "markdown",
   "id": "fedaf280",
   "metadata": {},
   "source": [
    "# Operations on Dataframes"
   ]
  },
  {
   "cell_type": "code",
   "execution_count": null,
   "id": "da1c2205",
   "metadata": {},
   "outputs": [],
   "source": [
    "# create a column named \"Average Rating\" by using the following formula: Average Rating = (User Rating + Critic Rating)/2\n"
   ]
  },
  {
   "cell_type": "code",
   "execution_count": null,
   "id": "ab6c226b",
   "metadata": {},
   "outputs": [],
   "source": [
    "# use the round function to round the values of the dataframe to 1 decimal and update the dataframe\n"
   ]
  },
  {
   "cell_type": "markdown",
   "id": "5142f8af",
   "metadata": {},
   "source": [
    "# Value Counts"
   ]
  },
  {
   "cell_type": "code",
   "execution_count": null,
   "id": "a3a1e3fc",
   "metadata": {},
   "outputs": [],
   "source": [
    "# count elements in \"Genre\" column by category and return the relative frequency \n"
   ]
  },
  {
   "cell_type": "markdown",
   "id": "13ff41dd",
   "metadata": {},
   "source": [
    "# Rename Columns"
   ]
  },
  {
   "cell_type": "code",
   "execution_count": null,
   "id": "f86a8194",
   "metadata": {},
   "outputs": [],
   "source": [
    "# rename columns \"User Rating,\" \"Critic Rating\" and \"Average Rating\" to \"UR,\" \"CR\" and \"AR\" then update the dataframe with the inplace paraneter\n"
   ]
  },
  {
   "cell_type": "code",
   "execution_count": null,
   "id": "3df4c15c",
   "metadata": {},
   "outputs": [],
   "source": [
    "# show first 5 rows\n"
   ]
  },
  {
   "cell_type": "code",
   "execution_count": null,
   "id": "474246ef",
   "metadata": {},
   "outputs": [],
   "source": [
    "# select only \"Name\", \"Author\", \"UR\", \"CR\", \"AR\" and \"Year\" columns and update dataframe\n"
   ]
  },
  {
   "cell_type": "markdown",
   "id": "6c458cf9",
   "metadata": {},
   "source": [
    "# Sort a dataframe"
   ]
  },
  {
   "cell_type": "code",
   "execution_count": null,
   "id": "50a7d2a8",
   "metadata": {},
   "outputs": [],
   "source": [
    "# sort the dataframe descending by \"UR\" and \"CR\"\n"
   ]
  }
 ],
 "metadata": {
  "kernelspec": {
   "display_name": "Python 3",
   "language": "python",
   "name": "python3"
  },
  "language_info": {
   "codemirror_mode": {
    "name": "ipython",
    "version": 3
   },
   "file_extension": ".py",
   "mimetype": "text/x-python",
   "name": "python",
   "nbconvert_exporter": "python",
   "pygments_lexer": "ipython3",
   "version": "3.8.8"
  },
  "toc": {
   "base_numbering": 1,
   "nav_menu": {},
   "number_sections": true,
   "sideBar": true,
   "skip_h1_title": false,
   "title_cell": "Table of Contents",
   "title_sidebar": "Contents",
   "toc_cell": false,
   "toc_position": {},
   "toc_section_display": true,
   "toc_window_display": false
  }
 },
 "nbformat": 4,
 "nbformat_minor": 5
}
